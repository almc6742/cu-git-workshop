{
  "nbformat": 4,
  "nbformat_minor": 0,
  "metadata": {
    "colab": {
      "name": "Exercise 1: Basic Ad Analyses",
      "provenance": [],
      "include_colab_link": true
    },
    "kernelspec": {
      "name": "python3",
      "display_name": "Python 3"
    }
  },
  "cells": [
    {
      "cell_type": "markdown",
      "metadata": {
        "id": "view-in-github",
        "colab_type": "text"
      },
      "source": [
        "<a href=\"https://colab.research.google.com/github/almc6742/cu-git-workshop/blob/master/Exercise_1_Basic_Ad_Analyses.ipynb\" target=\"_parent\"><img src=\"https://colab.research.google.com/assets/colab-badge.svg\" alt=\"Open In Colab\"/></a>"
      ]
    },
    {
      "cell_type": "code",
      "metadata": {
        "id": "icpXsC4JyKC1",
        "colab_type": "code",
        "outputId": "04e947b8-d43d-46bc-dbd4-c0a6e6858289",
        "colab": {
          "base_uri": "https://localhost:8080/",
          "height": 54
        }
      },
      "source": [
        "import pandas as pd\n",
        "import seaborn as sns\n",
        "import statsmodels.api as sm\n",
        "from google.colab import drive\n",
        "drive.mount('/content/drive')"
      ],
      "execution_count": 0,
      "outputs": [
        {
          "output_type": "stream",
          "text": [
            "Drive already mounted at /content/drive; to attempt to forcibly remount, call drive.mount(\"/content/drive\", force_remount=True).\n"
          ],
          "name": "stdout"
        }
      ]
    },
    {
      "cell_type": "code",
      "metadata": {
        "id": "HFZTFy15yXdy",
        "colab_type": "code",
        "colab": {}
      },
      "source": [
        "fbpony = 'drive/My Drive/Colab Notebooks/Travel Pony Facebook.csv'\n",
        "df = pd.read_csv(fbpony)"
      ],
      "execution_count": 0,
      "outputs": []
    },
    {
      "cell_type": "markdown",
      "metadata": {
        "id": "1bpG2SxgOFVq",
        "colab_type": "text"
      },
      "source": [
        "First, create the analytics 'cost per impression' by dividing Amount Spent / Impressions. Do this for each ad in your data, and save that as a column."
      ]
    },
    {
      "cell_type": "code",
      "metadata": {
        "id": "U5sBdEVczFis",
        "colab_type": "code",
        "colab": {}
      },
      "source": [
        "df['Cost per Impression'] = df['Amount Spent (USD)']/df['Impressions']"
      ],
      "execution_count": 0,
      "outputs": []
    },
    {
      "cell_type": "markdown",
      "metadata": {
        "id": "DgZOSjrKOOMv",
        "colab_type": "text"
      },
      "source": [
        "When considering 'cost per impression', what day of the week works best? (What day is it cheapest to generate impressions)\n",
        "\n",
        "What day works worst? (What day is most expensive)"
      ]
    },
    {
      "cell_type": "code",
      "metadata": {
        "id": "Bw1OHrWQOSGB",
        "colab_type": "code",
        "colab": {}
      },
      "source": [
        "df['Start Date'] = pd.to_datetime(df['Start Date'])\n",
        "\n",
        "df['Day of Week'] = df['Start Date'].dt.day_name()"
      ],
      "execution_count": 0,
      "outputs": []
    },
    {
      "cell_type": "code",
      "metadata": {
        "id": "RUrxunmGRK0D",
        "colab_type": "code",
        "outputId": "7030da51-ab9c-4ae5-888b-818d32e85ec5",
        "colab": {
          "base_uri": "https://localhost:8080/",
          "height": 254
        }
      },
      "source": [
        "df.groupby('Day of Week', as_index=False)['Cost per Impression'].mean()\n"
      ],
      "execution_count": 0,
      "outputs": [
        {
          "output_type": "execute_result",
          "data": {
            "text/html": [
              "<div>\n",
              "<style scoped>\n",
              "    .dataframe tbody tr th:only-of-type {\n",
              "        vertical-align: middle;\n",
              "    }\n",
              "\n",
              "    .dataframe tbody tr th {\n",
              "        vertical-align: top;\n",
              "    }\n",
              "\n",
              "    .dataframe thead th {\n",
              "        text-align: right;\n",
              "    }\n",
              "</style>\n",
              "<table border=\"1\" class=\"dataframe\">\n",
              "  <thead>\n",
              "    <tr style=\"text-align: right;\">\n",
              "      <th></th>\n",
              "      <th>Day of Week</th>\n",
              "      <th>Cost per Impression</th>\n",
              "    </tr>\n",
              "  </thead>\n",
              "  <tbody>\n",
              "    <tr>\n",
              "      <th>0</th>\n",
              "      <td>Friday</td>\n",
              "      <td>0.004097</td>\n",
              "    </tr>\n",
              "    <tr>\n",
              "      <th>1</th>\n",
              "      <td>Monday</td>\n",
              "      <td>0.002910</td>\n",
              "    </tr>\n",
              "    <tr>\n",
              "      <th>2</th>\n",
              "      <td>Saturday</td>\n",
              "      <td>0.002629</td>\n",
              "    </tr>\n",
              "    <tr>\n",
              "      <th>3</th>\n",
              "      <td>Sunday</td>\n",
              "      <td>0.003688</td>\n",
              "    </tr>\n",
              "    <tr>\n",
              "      <th>4</th>\n",
              "      <td>Thursday</td>\n",
              "      <td>0.003398</td>\n",
              "    </tr>\n",
              "    <tr>\n",
              "      <th>5</th>\n",
              "      <td>Tuesday</td>\n",
              "      <td>0.003040</td>\n",
              "    </tr>\n",
              "    <tr>\n",
              "      <th>6</th>\n",
              "      <td>Wednesday</td>\n",
              "      <td>0.002981</td>\n",
              "    </tr>\n",
              "  </tbody>\n",
              "</table>\n",
              "</div>"
            ],
            "text/plain": [
              "  Day of Week  Cost per Impression\n",
              "0      Friday             0.004097\n",
              "1      Monday             0.002910\n",
              "2    Saturday             0.002629\n",
              "3      Sunday             0.003688\n",
              "4    Thursday             0.003398\n",
              "5     Tuesday             0.003040\n",
              "6   Wednesday             0.002981"
            ]
          },
          "metadata": {
            "tags": []
          },
          "execution_count": 5
        }
      ]
    },
    {
      "cell_type": "markdown",
      "metadata": {
        "id": "ymZsWo8dUD-C",
        "colab_type": "text"
      },
      "source": [
        "* Best Day (cheapest): Saturday\n",
        "* Worst Day (most expensive): Friday"
      ]
    },
    {
      "cell_type": "markdown",
      "metadata": {
        "id": "KiBi0BFhWH7W",
        "colab_type": "text"
      },
      "source": [
        "---\n",
        "Next, compute the correlation between Amount Spent and the following variables: Reach, Frequency, Unique Clicks, Page Likes.\n",
        "\n",
        "Which correlation is the strongest? What does that mean practically?\n"
      ]
    },
    {
      "cell_type": "code",
      "metadata": {
        "id": "2-UrFGdRUrg-",
        "colab_type": "code",
        "colab": {}
      },
      "source": [
        "df1 = df[['Amount Spent (USD)', 'Reach', 'Frequency', 'Unique Clicks', 'Page Likes']].copy()"
      ],
      "execution_count": 0,
      "outputs": []
    },
    {
      "cell_type": "code",
      "metadata": {
        "id": "-bhms4RTVzho",
        "colab_type": "code",
        "outputId": "a513de71-1576-4f56-c062-40c581d89193",
        "colab": {
          "base_uri": "https://localhost:8080/",
          "height": 229
        }
      },
      "source": [
        "df1.corr()"
      ],
      "execution_count": 0,
      "outputs": [
        {
          "output_type": "execute_result",
          "data": {
            "text/html": [
              "<div>\n",
              "<style scoped>\n",
              "    .dataframe tbody tr th:only-of-type {\n",
              "        vertical-align: middle;\n",
              "    }\n",
              "\n",
              "    .dataframe tbody tr th {\n",
              "        vertical-align: top;\n",
              "    }\n",
              "\n",
              "    .dataframe thead th {\n",
              "        text-align: right;\n",
              "    }\n",
              "</style>\n",
              "<table border=\"1\" class=\"dataframe\">\n",
              "  <thead>\n",
              "    <tr style=\"text-align: right;\">\n",
              "      <th></th>\n",
              "      <th>Amount Spent (USD)</th>\n",
              "      <th>Reach</th>\n",
              "      <th>Frequency</th>\n",
              "      <th>Unique Clicks</th>\n",
              "      <th>Page Likes</th>\n",
              "    </tr>\n",
              "  </thead>\n",
              "  <tbody>\n",
              "    <tr>\n",
              "      <th>Amount Spent (USD)</th>\n",
              "      <td>1.000000</td>\n",
              "      <td>0.703124</td>\n",
              "      <td>0.130201</td>\n",
              "      <td>0.882993</td>\n",
              "      <td>0.757612</td>\n",
              "    </tr>\n",
              "    <tr>\n",
              "      <th>Reach</th>\n",
              "      <td>0.703124</td>\n",
              "      <td>1.000000</td>\n",
              "      <td>0.334101</td>\n",
              "      <td>0.722249</td>\n",
              "      <td>0.304388</td>\n",
              "    </tr>\n",
              "    <tr>\n",
              "      <th>Frequency</th>\n",
              "      <td>0.130201</td>\n",
              "      <td>0.334101</td>\n",
              "      <td>1.000000</td>\n",
              "      <td>0.135103</td>\n",
              "      <td>0.000182</td>\n",
              "    </tr>\n",
              "    <tr>\n",
              "      <th>Unique Clicks</th>\n",
              "      <td>0.882993</td>\n",
              "      <td>0.722249</td>\n",
              "      <td>0.135103</td>\n",
              "      <td>1.000000</td>\n",
              "      <td>0.584614</td>\n",
              "    </tr>\n",
              "    <tr>\n",
              "      <th>Page Likes</th>\n",
              "      <td>0.757612</td>\n",
              "      <td>0.304388</td>\n",
              "      <td>0.000182</td>\n",
              "      <td>0.584614</td>\n",
              "      <td>1.000000</td>\n",
              "    </tr>\n",
              "  </tbody>\n",
              "</table>\n",
              "</div>"
            ],
            "text/plain": [
              "                    Amount Spent (USD)     Reach  ...  Unique Clicks  Page Likes\n",
              "Amount Spent (USD)            1.000000  0.703124  ...       0.882993    0.757612\n",
              "Reach                         0.703124  1.000000  ...       0.722249    0.304388\n",
              "Frequency                     0.130201  0.334101  ...       0.135103    0.000182\n",
              "Unique Clicks                 0.882993  0.722249  ...       1.000000    0.584614\n",
              "Page Likes                    0.757612  0.304388  ...       0.584614    1.000000\n",
              "\n",
              "[5 rows x 5 columns]"
            ]
          },
          "metadata": {
            "tags": []
          },
          "execution_count": 7
        }
      ]
    },
    {
      "cell_type": "markdown",
      "metadata": {
        "id": "F5BY-DxcWm-z",
        "colab_type": "text"
      },
      "source": [
        "The strongest correlation is between Amount Spent and Unique Clicks. This means that as Travel Pony increases spend on their ads, the number of unique clicks is expected to increase significantly and vice versa."
      ]
    },
    {
      "cell_type": "markdown",
      "metadata": {
        "id": "oJ9up5oEXF-x",
        "colab_type": "text"
      },
      "source": [
        "---\n",
        "Finally, perform a simple multiple regression analysis where Unique Clicks is the dependent variable and Reach and Frequency are the independent (predictor) variables.\n",
        "\n",
        "What variable most strongly predicts unique clicks? What does that mean practically?"
      ]
    },
    {
      "cell_type": "code",
      "metadata": {
        "id": "dPc_TmTpXb1A",
        "colab_type": "code",
        "outputId": "b48c7ff1-6cf7-4605-9050-7c4f45919223",
        "colab": {
          "base_uri": "https://localhost:8080/",
          "height": 440
        }
      },
      "source": [
        "pivoteddata = df1.pivot_table(index='Amount Spent (USD)', aggfunc='mean')\n",
        "\n",
        "target = pivoteddata['Reach']\n",
        "dep = pivoteddata['Unique Clicks']\n",
        "\n",
        "mod = sm.OLS(target, dep)\n",
        "res = mod.fit()\n",
        "print(res.summary())"
      ],
      "execution_count": 0,
      "outputs": [
        {
          "output_type": "stream",
          "text": [
            "                                 OLS Regression Results                                \n",
            "=======================================================================================\n",
            "Dep. Variable:                  Reach   R-squared (uncentered):                   0.769\n",
            "Model:                            OLS   Adj. R-squared (uncentered):              0.769\n",
            "Method:                 Least Squares   F-statistic:                              3769.\n",
            "Date:                Thu, 14 Nov 2019   Prob (F-statistic):                        0.00\n",
            "Time:                        01:05:04   Log-Likelihood:                         -10965.\n",
            "No. Observations:                1131   AIC:                                  2.193e+04\n",
            "Df Residuals:                    1130   BIC:                                  2.194e+04\n",
            "Df Model:                           1                                                  \n",
            "Covariance Type:            nonrobust                                                  \n",
            "=================================================================================\n",
            "                    coef    std err          t      P>|t|      [0.025      0.975]\n",
            "---------------------------------------------------------------------------------\n",
            "Unique Clicks   203.6815      3.318     61.395      0.000     197.172     210.191\n",
            "==============================================================================\n",
            "Omnibus:                     1705.539   Durbin-Watson:                   1.621\n",
            "Prob(Omnibus):                  0.000   Jarque-Bera (JB):          2123593.274\n",
            "Skew:                           8.266   Prob(JB):                         0.00\n",
            "Kurtosis:                     214.636   Cond. No.                         1.00\n",
            "==============================================================================\n",
            "\n",
            "Warnings:\n",
            "[1] Standard Errors assume that the covariance matrix of the errors is correctly specified.\n"
          ],
          "name": "stdout"
        }
      ]
    },
    {
      "cell_type": "code",
      "metadata": {
        "id": "_KErtCxAbrhH",
        "colab_type": "code",
        "outputId": "e2f6b35c-cf86-4668-eec9-c2c8d060f86d",
        "colab": {
          "base_uri": "https://localhost:8080/",
          "height": 440
        }
      },
      "source": [
        "target = pivoteddata['Frequency']\n",
        "dep = pivoteddata['Unique Clicks']\n",
        "\n",
        "mod = sm.OLS(target, dep)\n",
        "res = mod.fit()\n",
        "print(res.summary())"
      ],
      "execution_count": 0,
      "outputs": [
        {
          "output_type": "stream",
          "text": [
            "                                 OLS Regression Results                                \n",
            "=======================================================================================\n",
            "Dep. Variable:              Frequency   R-squared (uncentered):                   0.308\n",
            "Model:                            OLS   Adj. R-squared (uncentered):              0.307\n",
            "Method:                 Least Squares   F-statistic:                              503.0\n",
            "Date:                Thu, 14 Nov 2019   Prob (F-statistic):                    1.90e-92\n",
            "Time:                        01:05:04   Log-Likelihood:                         -1421.8\n",
            "No. Observations:                1131   AIC:                                      2846.\n",
            "Df Residuals:                    1130   BIC:                                      2851.\n",
            "Df Model:                           1                                                  \n",
            "Covariance Type:            nonrobust                                                  \n",
            "=================================================================================\n",
            "                    coef    std err          t      P>|t|      [0.025      0.975]\n",
            "---------------------------------------------------------------------------------\n",
            "Unique Clicks     0.0161      0.001     22.428      0.000       0.015       0.018\n",
            "==============================================================================\n",
            "Omnibus:                     1011.322   Durbin-Watson:                   0.219\n",
            "Prob(Omnibus):                  0.000   Jarque-Bera (JB):            60698.486\n",
            "Skew:                          -3.834   Prob(JB):                         0.00\n",
            "Kurtosis:                      38.060   Cond. No.                         1.00\n",
            "==============================================================================\n",
            "\n",
            "Warnings:\n",
            "[1] Standard Errors assume that the covariance matrix of the errors is correctly specified.\n"
          ],
          "name": "stdout"
        }
      ]
    },
    {
      "cell_type": "markdown",
      "metadata": {
        "id": "1YiImeSlbxyF",
        "colab_type": "text"
      },
      "source": [
        "Reach most strongly predicts Unique Clicks. This means that as the number of people who see your ad content increases, the unique clicks is expected to have a similar lift."
      ]
    }
  ]
}