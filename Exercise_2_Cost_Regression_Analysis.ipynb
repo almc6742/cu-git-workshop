{
  "nbformat": 4,
  "nbformat_minor": 0,
  "metadata": {
    "colab": {
      "name": "Exercise 2: Cost Regression Analysis",
      "provenance": [],
      "include_colab_link": true
    },
    "kernelspec": {
      "name": "python3",
      "display_name": "Python 3"
    }
  },
  "cells": [
    {
      "cell_type": "markdown",
      "metadata": {
        "id": "view-in-github",
        "colab_type": "text"
      },
      "source": [
        "<a href=\"https://colab.research.google.com/github/almc6742/cu-git-workshop/blob/master/Exercise_2_Cost_Regression_Analysis.ipynb\" target=\"_parent\"><img src=\"https://colab.research.google.com/assets/colab-badge.svg\" alt=\"Open In Colab\"/></a>"
      ]
    },
    {
      "cell_type": "code",
      "metadata": {
        "id": "IKo8bYaxT4ig",
        "colab_type": "code",
        "outputId": "11a5c882-ddb5-4d41-98fc-b6c2cbcc8d24",
        "colab": {
          "base_uri": "https://localhost:8080/",
          "height": 54
        }
      },
      "source": [
        "import pandas as pd\n",
        "import seaborn as sns\n",
        "import statsmodels.api as sm\n",
        "from sklearn import linear_model\n",
        "from google.colab import drive\n",
        "drive.mount('/content/drive')"
      ],
      "execution_count": 0,
      "outputs": [
        {
          "output_type": "stream",
          "text": [
            "Drive already mounted at /content/drive; to attempt to forcibly remount, call drive.mount(\"/content/drive\", force_remount=True).\n"
          ],
          "name": "stdout"
        }
      ]
    },
    {
      "cell_type": "code",
      "metadata": {
        "id": "mUv3GNTrUCbe",
        "colab_type": "code",
        "colab": {}
      },
      "source": [
        "fbpony = 'drive/My Drive/Colab Notebooks/Travel Pony Facebook.csv'\n",
        "df = pd.read_csv(fbpony)"
      ],
      "execution_count": 0,
      "outputs": []
    },
    {
      "cell_type": "markdown",
      "metadata": {
        "id": "EZzttE0_WOCA",
        "colab_type": "text"
      },
      "source": [
        "Remove rows that have $0.00 amount spent:\n"
      ]
    },
    {
      "cell_type": "code",
      "metadata": {
        "id": "JHenulWuUDGy",
        "colab_type": "code",
        "colab": {}
      },
      "source": [
        "df = df[~((df['Amount Spent (USD)'] == 0))]"
      ],
      "execution_count": 0,
      "outputs": []
    },
    {
      "cell_type": "markdown",
      "metadata": {
        "id": "P2H6iMpzWYV_",
        "colab_type": "text"
      },
      "source": [
        "1. Graph a histogram of Amount Spent using Seaborn:"
      ]
    },
    {
      "cell_type": "code",
      "metadata": {
        "id": "lFPF2Yv3Wb89",
        "colab_type": "code",
        "outputId": "116b9201-f3ed-4e8f-844f-92dc5388caa6",
        "colab": {
          "base_uri": "https://localhost:8080/",
          "height": 296
        }
      },
      "source": [
        "sns.set_style('darkgrid')\n",
        "sns.distplot(df['Amount Spent (USD)'])"
      ],
      "execution_count": 0,
      "outputs": [
        {
          "output_type": "execute_result",
          "data": {
            "text/plain": [
              "<matplotlib.axes._subplots.AxesSubplot at 0x7fa46435de80>"
            ]
          },
          "metadata": {
            "tags": []
          },
          "execution_count": 4
        },
        {
          "output_type": "display_data",
          "data": {
            "image/png": "[encoded data removed]",
            "text/plain": [
              "<Figure size 432x288 with 1 Axes>"
            ]
          },
          "metadata": {
            "tags": []
          }
        }
      ]
    },
    {
      "cell_type": "markdown",
      "metadata": {
        "id": "sIHUpds7XyqL",
        "colab_type": "text"
      },
      "source": [
        "Create scatterplots for spend and: reach, frequency, impressions, and clicks. Do you see a linear relationship? As a result, do you think linear regression will work for this problem?"
      ]
    },
    {
      "cell_type": "code",
      "metadata": {
        "id": "fr4j-YDdX_g_",
        "colab_type": "code",
        "outputId": "f2e4004a-80be-4bc9-db0b-5dfc5424c37e",
        "colab": {
          "base_uri": "https://localhost:8080/",
          "height": 296
        }
      },
      "source": [
        "sns.regplot(df['Amount Spent (USD)'], df['Reach'])"
      ],
      "execution_count": 0,
      "outputs": [
        {
          "output_type": "execute_result",
          "data": {
            "text/plain": [
              "<matplotlib.axes._subplots.AxesSubplot at 0x7fa4639374e0>"
            ]
          },
          "metadata": {
            "tags": []
          },
          "execution_count": 5
        },
        {
          "output_type": "display_data",
          "data": {
            "image/png": "[encoded data removed]",
            "text/plain": [
              "<Figure size 432x288 with 1 Axes>"
            ]
          },
          "metadata": {
            "tags": []
          }
        }
      ]
    },
    {
      "cell_type": "markdown",
      "metadata": {
        "id": "6Vi3GZY_Ym7s",
        "colab_type": "text"
      },
      "source": [
        "Weak positive linear relationship between **Spend** and **Reach**"
      ]
    },
    {
      "cell_type": "code",
      "metadata": {
        "id": "JwLhpYwPYRaY",
        "colab_type": "code",
        "outputId": "4b8cee44-4fc2-426e-d86a-8c2f781cec06",
        "colab": {
          "base_uri": "https://localhost:8080/",
          "height": 296
        }
      },
      "source": [
        "sns.regplot(df['Amount Spent (USD)'], df['Frequency'])"
      ],
      "execution_count": 0,
      "outputs": [
        {
          "output_type": "execute_result",
          "data": {
            "text/plain": [
              "<matplotlib.axes._subplots.AxesSubplot at 0x7fa4639007b8>"
            ]
          },
          "metadata": {
            "tags": []
          },
          "execution_count": 6
        },
        {
          "output_type": "display_data",
          "data": {
            "image/png": "[encoded data removed]",
            "text/plain": [
              "<Figure size 432x288 with 1 Axes>"
            ]
          },
          "metadata": {
            "tags": []
          }
        }
      ]
    },
    {
      "cell_type": "markdown",
      "metadata": {
        "id": "LlH9RdR1ZB4i",
        "colab_type": "text"
      },
      "source": [
        "Weak positive - almost no - linear relationship between **Spend** and **Frequency**"
      ]
    },
    {
      "cell_type": "code",
      "metadata": {
        "id": "mz6TvYnBYWVY",
        "colab_type": "code",
        "outputId": "84cb4d10-1fd3-4d29-f24d-3b583a8fd880",
        "colab": {
          "base_uri": "https://localhost:8080/",
          "height": 299
        }
      },
      "source": [
        "sns.regplot(df['Amount Spent (USD)'], df['Impressions'])"
      ],
      "execution_count": 0,
      "outputs": [
        {
          "output_type": "execute_result",
          "data": {
            "text/plain": [
              "<matplotlib.axes._subplots.AxesSubplot at 0x7fa463900d30>"
            ]
          },
          "metadata": {
            "tags": []
          },
          "execution_count": 7
        },
        {
          "output_type": "display_data",
          "data": {
            "image/png": "[encoded data removed]",
            "text/plain": [
              "<Figure size 432x288 with 1 Axes>"
            ]
          },
          "metadata": {
            "tags": []
          }
        }
      ]
    },
    {
      "cell_type": "markdown",
      "metadata": {
        "id": "v00hTUB_ZVvT",
        "colab_type": "text"
      },
      "source": [
        "Weak positive linear relationship between **Spend** and **Impressions**"
      ]
    },
    {
      "cell_type": "code",
      "metadata": {
        "id": "XUXczZWCYag8",
        "colab_type": "code",
        "outputId": "99215606-0ea7-41f0-b192-5f42c7b01412",
        "colab": {
          "base_uri": "https://localhost:8080/",
          "height": 296
        }
      },
      "source": [
        "sns.regplot(df['Amount Spent (USD)'], df['Clicks'])"
      ],
      "execution_count": 0,
      "outputs": [
        {
          "output_type": "execute_result",
          "data": {
            "text/plain": [
              "<matplotlib.axes._subplots.AxesSubplot at 0x7fa4638e8f28>"
            ]
          },
          "metadata": {
            "tags": []
          },
          "execution_count": 8
        },
        {
          "output_type": "display_data",
          "data": {
            "image/png": "[encoded data removed]",
            "text/plain": [
              "<Figure size 432x288 with 1 Axes>"
            ]
          },
          "metadata": {
            "tags": []
          }
        }
      ]
    },
    {
      "cell_type": "markdown",
      "metadata": {
        "id": "pYn-efmMZluk",
        "colab_type": "text"
      },
      "source": [
        "Moderate linear relationship between **Spend** and **Clicks**"
      ]
    },
    {
      "cell_type": "markdown",
      "metadata": {
        "id": "vds3eYj5Ztd0",
        "colab_type": "text"
      },
      "source": [
        "Conclusion: A linear regression will work for this problem; however, several target predictor variables in our linear regression will fail to explain a significant amount of Spend due to a lack of correlation. The majority of target variables have weak - almost no - linear relationship with Spend and would result in a low R-squared through regression. Certain predictor variables with stronger positive relationships (i.e. Clicks) will explain more of the dependent variable, Spend."
      ]
    },
    {
      "cell_type": "markdown",
      "metadata": {
        "id": "IZrrnjtZajmn",
        "colab_type": "text"
      },
      "source": [
        "---\n",
        "Build a multiple regression where the outcome variable is Amount Spent and the predictor variables are: Campaign Name,\n",
        "Reach,\n",
        "Frequency,\n",
        "Impressions,\n",
        "Clicks,\n",
        "Unique Clicks,\n",
        "Page Likes,\n",
        "Page Engagement,\n",
        "Post Engagement,\n",
        "Post Likes,\n",
        "Post Comments,\n",
        "Post Shares,\n",
        "Photo Views, and\n",
        "Website Clicks"
      ]
    },
    {
      "cell_type": "markdown",
      "metadata": {
        "id": "Nbq2UlHLe8A7",
        "colab_type": "text"
      },
      "source": [
        "First, convert 'Campaign Name' to some type of categorical value that the regression understands as such:"
      ]
    },
    {
      "cell_type": "code",
      "metadata": {
        "id": "bnHTwIxtaix6",
        "colab_type": "code",
        "colab": {}
      },
      "source": [
        "df['Campaign Name'] = df['Campaign Name'].astype('category')\n",
        "df['Campaign Name'] = df['Campaign Name'].cat.reorder_categories(['Cyber Weekend', 'TravelPony: General Ads',\n",
        "       'TravelPony: Conversion Test',\n",
        "       'Post: \"You need to get some real sun and we are here to...\"',\n",
        "       'Nanigans_7_720', 'Nanigans_7_723', 'Nanigans_7_721',\n",
        "       'Nanigans_7_719', 'Nanigans_7_724', 'Nanigans_7_722',\n",
        "       'Nanigans_6_713', 'Nanigans_5_701', 'Nanigans_5_712',\n",
        "       'Nanigans_5_708', 'Nanigans_5_711', 'Nanigans_6_717',\n",
        "       'Nanigans_5_703', 'Nanigans_5_706', 'Nanigans_5_705',\n",
        "       'Nanigans_5_709', 'Nanigans_5_704', 'Nanigans_5_707',\n",
        "       'Nanigans_6_716', 'Nanigans_5_702', 'Nanigans_5_710',\n",
        "       'Nanigans_6_718', 'Nanigans_6_715',\n",
        "       'Simple_Multi_Fill_Campaign_2_627', 'Nanigans_2_662',\n",
        "       'Nanigans_2_664', 'Nanigans_2_654', 'Nanigans_2_660',\n",
        "       'Nanigans_2_651', 'Nanigans_2_655', 'Nanigans_2_653',\n",
        "       'Simple_Multi_Fill_Campaign_1_336', 'Nanigans_2_663',\n",
        "       'Nanigans_2_640', 'Nanigans_2_656',\n",
        "       'Simple_Multi_Fill_Campaign_2_631', 'Nanigans_2_652',\n",
        "       'Nanigans_2_647', 'Nanigans_2_643', 'Nanigans_2_648',\n",
        "       'Nanigans_2_645', 'Nanigans_2_671', 'Nanigans_2_641',\n",
        "       'Nanigans_2_659', 'Simple_Multi_Fill_Campaign_2_569',\n",
        "       'Simple_Multi_Fill_Campaign_2_563',\n",
        "       'Simple_Multi_Fill_Campaign_2_603',\n",
        "       'Simple_Multi_Fill_Campaign_2_601',\n",
        "       'Simple_Multi_Fill_Campaign_2_619',\n",
        "       'Simple_Multi_Fill_Campaign_2_602',\n",
        "       'Simple_Multi_Fill_Campaign_2_564',\n",
        "       'Simple_Multi_Fill_Campaign_2_597',\n",
        "       'Simple_Multi_Fill_Campaign_2_556',\n",
        "       'Simple_Multi_Fill_Campaign_2_554',\n",
        "       'Simple_Multi_Fill_Campaign_2_583',\n",
        "       'Simple_Multi_Fill_Campaign_2_568',\n",
        "       'Simple_Multi_Fill_Campaign_2_553',\n",
        "       'Simple_Multi_Fill_Campaign_2_575',\n",
        "       'Simple_Multi_Fill_Campaign_2_621',\n",
        "       'Simple_Multi_Fill_Campaign_2_624',\n",
        "       'Simple_Multi_Fill_Campaign_1_346',\n",
        "       'Simple_Multi_Fill_Campaign_1_341',\n",
        "       'Simple_Multi_Fill_Campaign_2_555',\n",
        "       'Simple_Multi_Fill_Campaign_2_600',\n",
        "       'Simple_Multi_Fill_Campaign_2_562',\n",
        "       'Simple_Multi_Fill_Campaign_2_547',\n",
        "       'Simple_Multi_Fill_Campaign_2_566',\n",
        "       'Simple_Multi_Fill_Campaign_2_559',\n",
        "       'Simple_Multi_Fill_Campaign_2_560',\n",
        "       'Simple_Multi_Fill_Campaign_2_620',\n",
        "       'Simple_Multi_Fill_Campaign_2_617',\n",
        "       'Simple_Multi_Fill_Campaign_2_599',\n",
        "       'Simple_Multi_Fill_Campaign_2_545',\n",
        "       'Simple_Multi_Fill_Campaign_2_622',\n",
        "       'Simple_Multi_Fill_Campaign_2_548', 'Nanigans_2_670',\n",
        "       'Nanigans_2_637', 'Nanigans_2_639', 'Nanigans_2_638',\n",
        "       'Nanigans_2_646', 'Simple_Multi_Fill_Campaign_1_342',\n",
        "       'Nanigans_2_642', 'Simple_Multi_Fill_Campaign_2_557',\n",
        "       'Simple_Multi_Fill_Campaign_1_344',\n",
        "       'Simple_Multi_Fill_Campaign_2_551',\n",
        "       'Simple_Multi_Fill_Campaign_2_596', 'Nanigans_2_669',\n",
        "       'Nanigans_2_661', 'Simple_Multi_Fill_Campaign_2_634',\n",
        "       'Simple_Multi_Fill_Campaign_2_561',\n",
        "       'Simple_Multi_Fill_Campaign_2_552',\n",
        "       'Simple_Multi_Fill_Campaign_2_543',\n",
        "       'Simple_Multi_Fill_Campaign_2_544',\n",
        "       'Simple_Multi_Fill_Campaign_1_345',\n",
        "       'Simple_Multi_Fill_Campaign_1_338',\n",
        "       'Simple_Multi_Fill_Campaign_1_340', 'Nanigans_2_644',\n",
        "       'Simple_Multi_Fill_Campaign_2_636',\n",
        "       'Simple_Multi_Fill_Campaign_1_343',\n",
        "       'Simple_Multi_Fill_Campaign_2_558',\n",
        "       'Simple_Multi_Fill_Campaign_2_633',\n",
        "       'Simple_Multi_Fill_Campaign_2_626',\n",
        "       'Simple_Multi_Fill_Campaign_2_598',\n",
        "       'Simple_Multi_Fill_Campaign_2_565',\n",
        "       'Simple_Multi_Fill_Campaign_1_337',\n",
        "       'Simple_Multi_Fill_Campaign_2_623',\n",
        "       'Simple_Multi_Fill_Campaign_2_567',\n",
        "       'Simple_Multi_Fill_Campaign_1_320',\n",
        "       'Simple_Multi_Fill_Campaign_1_339',\n",
        "       'Simple_Multi_Fill_Campaign_1_348',\n",
        "       'Simple_Multi_Fill_Campaign_1_363',\n",
        "       'Simple_Multi_Fill_Campaign_1_319',\n",
        "       'Simple_Multi_Fill_Campaign_1_362',\n",
        "       'Simple_Multi_Fill_Campaign_1_361',\n",
        "       'Simple_Multi_Fill_Campaign_1_370',\n",
        "       'Simple_Multi_Fill_Campaign_1_476',\n",
        "       'Simple_Multi_Fill_Campaign_1_490',\n",
        "       'Simple_Multi_Fill_Campaign_1_477',\n",
        "       'Simple_Multi_Fill_Campaign_1_454',\n",
        "       'Simple_Multi_Fill_Campaign_1_457',\n",
        "       'Simple_Multi_Fill_Campaign_1_478',\n",
        "       'Simple_Multi_Fill_Campaign_1_430',\n",
        "       'Simple_Multi_Fill_Campaign_1_433',\n",
        "       'Simple_Multi_Fill_Campaign_1_439',\n",
        "       'Simple_Multi_Fill_Campaign_1_431',\n",
        "       'Simple_Multi_Fill_Campaign_1_462',\n",
        "       'Simple_Multi_Fill_Campaign_1_455',\n",
        "       'Simple_Multi_Fill_Campaign_1_444',\n",
        "       'Simple_Multi_Fill_Campaign_1_510',\n",
        "       'Simple_Multi_Fill_Campaign_1_452',\n",
        "       'Simple_Multi_Fill_Campaign_1_440',\n",
        "       'Simple_Multi_Fill_Campaign_1_446',\n",
        "       'Simple_Multi_Fill_Campaign_1_445',\n",
        "       'Simple_Multi_Fill_Campaign_1_512',\n",
        "       'Simple_Multi_Fill_Campaign_1_486',\n",
        "       'Simple_Multi_Fill_Campaign_1_432',\n",
        "       'Simple_Multi_Fill_Campaign_1_441',\n",
        "       'Simple_Multi_Fill_Campaign_1_460',\n",
        "       'Simple_Multi_Fill_Campaign_1_488',\n",
        "       'Simple_Multi_Fill_Campaign_1_435',\n",
        "       'Simple_Multi_Fill_Campaign_1_474',\n",
        "       'Simple_Multi_Fill_Campaign_1_466',\n",
        "       'Simple_Multi_Fill_Campaign_1_468',\n",
        "       'Simple_Multi_Fill_Campaign_1_442',\n",
        "       'Simple_Multi_Fill_Campaign_1_494',\n",
        "       'Simple_Multi_Fill_Campaign_1_495',\n",
        "       'Simple_Multi_Fill_Campaign_1_278',\n",
        "       'Simple_Multi_Fill_Campaign_1_231',\n",
        "       'Simple_Multi_Fill_Campaign_1_254',\n",
        "       'Simple_Multi_Fill_Campaign_1_425',\n",
        "       'Simple_Multi_Fill_Campaign_1_426',\n",
        "       'Simple_Multi_Fill_Campaign_1_368',\n",
        "       'Simple_Multi_Fill_Campaign_1_434',\n",
        "       'Simple_Multi_Fill_Campaign_1_408',\n",
        "       'Simple_Multi_Fill_Campaign_1_281',\n",
        "       'Simple_Multi_Fill_Campaign_1_282',\n",
        "       'Simple_Multi_Fill_Campaign_1_284',\n",
        "       'Simple_Multi_Fill_Campaign_1_301',\n",
        "       'Simple_Multi_Fill_Campaign_1_280',\n",
        "       'Simple_Multi_Fill_Campaign_1_333',\n",
        "       'Simple_Multi_Fill_Campaign_1_324',\n",
        "       'Simple_Multi_Fill_Campaign_1_335',\n",
        "       'Simple_Multi_Fill_Campaign_1_458',\n",
        "       'Simple_Multi_Fill_Campaign_1_322',\n",
        "       'Simple_Multi_Fill_Campaign_1_326',\n",
        "       'Simple_Multi_Fill_Campaign_1_328',\n",
        "       'Simple_Multi_Fill_Campaign_1_321',\n",
        "       'Simple_Multi_Fill_Campaign_1_277',\n",
        "       'Simple_Multi_Fill_Campaign_1_443',\n",
        "       'Simple_Multi_Fill_Campaign_1_471',\n",
        "       'Simple_Multi_Fill_Campaign_1_450',\n",
        "       'Simple_Multi_Fill_Campaign_1_511',\n",
        "       'Simple_Multi_Fill_Campaign_1_349',\n",
        "       'Simple_Multi_Fill_Campaign_1_300',\n",
        "       'Simple_Multi_Fill_Campaign_2_579',\n",
        "       'Simple_Multi_Fill_Campaign_1_357',\n",
        "       'Simple_Multi_Fill_Campaign_1_332',\n",
        "       'Simple_Multi_Fill_Campaign_1_464',\n",
        "       'Simple_Multi_Fill_Campaign_1_472',\n",
        "       'Simple_Multi_Fill_Campaign_2_546',\n",
        "       'Simple_Multi_Fill_Campaign_1_436',\n",
        "       'Simple_Multi_Fill_Campaign_1_376',\n",
        "       'Simple_Multi_Fill_Campaign_1_448',\n",
        "       'Simple_Multi_Fill_Campaign_1_518',\n",
        "       'Simple_Multi_Fill_Campaign_1_261',\n",
        "       'Simple_Multi_Fill_Campaign_1_330',\n",
        "       'Simple_Multi_Fill_Campaign_1_389',\n",
        "       'Simple_Multi_Fill_Campaign_1_351',\n",
        "       'Simple_Multi_Fill_Campaign_1_347',\n",
        "       'Simple_Multi_Fill_Campaign_1_365',\n",
        "       'Simple_Multi_Fill_Campaign_1_327',\n",
        "       'Simple_Multi_Fill_Campaign_1_480',\n",
        "       'Simple_Multi_Fill_Campaign_1_307',\n",
        "       'Simple_Multi_Fill_Campaign_1_385',\n",
        "       'Simple_Multi_Fill_Campaign_1_386',\n",
        "       'Simple_Multi_Fill_Campaign_1_316',\n",
        "       'Simple_Multi_Fill_Campaign_1_358',\n",
        "       'Simple_Multi_Fill_Campaign_1_334',\n",
        "       'Simple_Multi_Fill_Campaign_1_356',\n",
        "       'Simple_Multi_Fill_Campaign_1_354',\n",
        "       'Simple_Multi_Fill_Campaign_1_364',\n",
        "       'Simple_Multi_Fill_Campaign_1_276',\n",
        "       'Simple_Multi_Fill_Campaign_1_241',\n",
        "       'Simple_Multi_Fill_Campaign_1_373',\n",
        "       'Simple_Multi_Fill_Campaign_1_379',\n",
        "       'Simple_Multi_Fill_Campaign_1_325',\n",
        "       'Simple_Multi_Fill_Campaign_1_257',\n",
        "       'Simple_Multi_Fill_Campaign_1_387',\n",
        "       'Simple_Multi_Fill_Campaign_1_367',\n",
        "       'Simple_Multi_Fill_Campaign_1_238',\n",
        "       'Simple_Multi_Fill_Campaign_1_427',\n",
        "       'Simple_Multi_Fill_Campaign_1_355',\n",
        "       'Simple_Multi_Fill_Campaign_1_285',\n",
        "       'Simple_Multi_Fill_Campaign_1_304',\n",
        "       'Simple_Multi_Fill_Campaign_1_323',\n",
        "       'Simple_Multi_Fill_Campaign_1_461',\n",
        "       'Simple_Multi_Fill_Campaign_1_438',\n",
        "       'Simple_Multi_Fill_Campaign_1_279',\n",
        "       'Simple_Multi_Fill_Campaign_1_240',\n",
        "       'Simple_Multi_Fill_Campaign_1_429',\n",
        "       'Simple_Multi_Fill_Campaign_1_384',\n",
        "       'Simple_Multi_Fill_Campaign_1_375',\n",
        "       'Simple_Multi_Fill_Campaign_1_418',\n",
        "       'Simple_Multi_Fill_Campaign_1_420',\n",
        "       'Simple_Multi_Fill_Campaign_1_331',\n",
        "       'Simple_Multi_Fill_Campaign_1_360',\n",
        "       'Simple_Multi_Fill_Campaign_1_352',\n",
        "       'Simple_Multi_Fill_Campaign_1_318',\n",
        "       'Simple_Multi_Fill_Campaign_1_226',\n",
        "       'Simple_Multi_Fill_Campaign_1_217',\n",
        "       'Simple_Multi_Fill_Campaign_1_218',\n",
        "       'Simple_Multi_Fill_Campaign_1_371',\n",
        "       'Simple_Multi_Fill_Campaign_1_353',\n",
        "       'Simple_Multi_Fill_Campaign_1_255',\n",
        "       'Simple_Multi_Fill_Campaign_1_416',\n",
        "       'Simple_Multi_Fill_Campaign_1_399',\n",
        "       'Simple_Multi_Fill_Campaign_1_395',\n",
        "       'Simple_Multi_Fill_Campaign_1_396',\n",
        "       'Simple_Multi_Fill_Campaign_1_388',\n",
        "       'Simple_Multi_Fill_Campaign_1_380',\n",
        "       'Simple_Multi_Fill_Campaign_1_390',\n",
        "       'Simple_Multi_Fill_Campaign_1_392',\n",
        "       'Simple_Multi_Fill_Campaign_1_402',\n",
        "       'Simple_Multi_Fill_Campaign_1_220',\n",
        "       'Simple_Multi_Fill_Campaign_1_272',\n",
        "       'Simple_Multi_Fill_Campaign_1_247',\n",
        "       'Simple_Multi_Fill_Campaign_1_270',\n",
        "       'Simple_Multi_Fill_Campaign_1_275',\n",
        "       'Simple_Multi_Fill_Campaign_1_263',\n",
        "       'Simple_Multi_Fill_Campaign_1_286',\n",
        "       'Simple_Multi_Fill_Campaign_1_267',\n",
        "       'Simple_Multi_Fill_Campaign_1_216',\n",
        "       'Simple_Multi_Fill_Campaign_1_258',\n",
        "       'Simple_Multi_Fill_Campaign_1_221',\n",
        "       'Simple_Multi_Fill_Campaign_1_252',\n",
        "       'Simple_Multi_Fill_Campaign_1_406',\n",
        "       'Simple_Multi_Fill_Campaign_1_394',\n",
        "       'Simple_Multi_Fill_Campaign_1_372',\n",
        "       'Simple_Multi_Fill_Campaign_1_212',\n",
        "       'Simple_Multi_Fill_Campaign_1_415',\n",
        "       'Simple_Multi_Fill_Campaign_1_391',\n",
        "       'Simple_Multi_Fill_Campaign_1_398',\n",
        "       'Simple_Multi_Fill_Campaign_1_401',\n",
        "       'Simple_Multi_Fill_Campaign_1_374',\n",
        "       'Simple_Multi_Fill_Campaign_1_397',\n",
        "       'Simple_Multi_Fill_Campaign_1_378',\n",
        "       'Simple_Multi_Fill_Campaign_1_407',\n",
        "       'Simple_Multi_Fill_Campaign_1_313',\n",
        "       'Simple_Multi_Fill_Campaign_1_223',\n",
        "       'Simple_Multi_Fill_Campaign_1_269',\n",
        "       'Simple_Multi_Fill_Campaign_1_250',\n",
        "       'Simple_Multi_Fill_Campaign_1_274',\n",
        "       'Simple_Multi_Fill_Campaign_1_428',\n",
        "       'Simple_Multi_Fill_Campaign_1_289',\n",
        "       'Simple_Multi_Fill_Campaign_1_310',\n",
        "       'Simple_Multi_Fill_Campaign_1_306',\n",
        "       'Simple_Multi_Fill_Campaign_1_298',\n",
        "       'Simple_Multi_Fill_Campaign_1_421',\n",
        "       'Simple_Multi_Fill_Campaign_1_297',\n",
        "       'Simple_Multi_Fill_Campaign_1_296',\n",
        "       'Simple_Multi_Fill_Campaign_1_283',\n",
        "       'Simple_Multi_Fill_Campaign_1_329',\n",
        "       'Simple_Multi_Fill_Campaign_1_229',\n",
        "       'Simple_Multi_Fill_Campaign_1_236',\n",
        "       'Simple_Multi_Fill_Campaign_1_219',\n",
        "       'Simple_Multi_Fill_Campaign_1_308',\n",
        "       'Simple_Multi_Fill_Campaign_1_273',\n",
        "       'Simple_Multi_Fill_Campaign_1_227',\n",
        "       'Simple_Multi_Fill_Campaign_1_260',\n",
        "       'Simple_Multi_Fill_Campaign_1_311',\n",
        "       'Simple_Multi_Fill_Campaign_1_312',\n",
        "       'Simple_Multi_Fill_Campaign_1_303',\n",
        "       'Simple_Multi_Fill_Campaign_1_309',\n",
        "       'Simple_Multi_Fill_Campaign_1_299',\n",
        "       'Simple_Multi_Fill_Campaign_1_295',\n",
        "       'Simple_Multi_Fill_Campaign_1_288',\n",
        "       'Simple_Multi_Fill_Campaign_1_244',\n",
        "       'Simple_Multi_Fill_Campaign_1_251',\n",
        "       'Simple_Multi_Fill_Campaign_1_242',\n",
        "       'Simple_Multi_Fill_Campaign_1_266',\n",
        "       'Simple_Multi_Fill_Campaign_1_264',\n",
        "       'Simple_Multi_Fill_Campaign_1_243',\n",
        "       'Simple_Multi_Fill_Campaign_1_245',\n",
        "       'Simple_Multi_Fill_Campaign_1_246',\n",
        "       'Simple_Multi_Fill_Campaign_1_259',\n",
        "       'Simple_Multi_Fill_Campaign_1_215',\n",
        "       'Simple_Multi_Fill_Campaign_1_262',\n",
        "       'Simple_Multi_Fill_Campaign_1_249',\n",
        "       'Simple_Multi_Fill_Campaign_1_55',\n",
        "       'Simple_Multi_Fill_Campaign_1_45',\n",
        "       'Simple_Multi_Fill_Campaign_1_63',\n",
        "       'Simple_Multi_Fill_Campaign_1_42',\n",
        "       'Simple_Multi_Fill_Campaign_1_30',\n",
        "       'Simple_Multi_Fill_Campaign_1_4', 'Simple_Multi_Fill_Campaign_1_5',\n",
        "       'Simple_Multi_Fill_Campaign_1_36',\n",
        "       'Simple_Multi_Fill_Campaign_1_64',\n",
        "       'Simple_Multi_Fill_Campaign_1_58',\n",
        "       'Simple_Multi_Fill_Campaign_1_48',\n",
        "       'Simple_Multi_Fill_Campaign_1_49',\n",
        "       'Simple_Multi_Fill_Campaign_1_66',\n",
        "       'Simple_Multi_Fill_Campaign_1_128',\n",
        "       'Simple_Multi_Fill_Campaign_1_165',\n",
        "       'Simple_Multi_Fill_Campaign_1_57',\n",
        "       'Simple_Multi_Fill_Campaign_1_160',\n",
        "       'Simple_Multi_Fill_Campaign_1_176',\n",
        "       'Simple_Multi_Fill_Campaign_1_156',\n",
        "       'Simple_Multi_Fill_Campaign_1_157',\n",
        "       'Simple_Multi_Fill_Campaign_1_153',\n",
        "       'Simple_Multi_Fill_Campaign_1_172',\n",
        "       'Simple_Multi_Fill_Campaign_1_170',\n",
        "       'Simple_Multi_Fill_Campaign_1_207',\n",
        "       'Simple_Multi_Fill_Campaign_1_211',\n",
        "       'Simple_Multi_Fill_Campaign_1_208',\n",
        "       'Simple_Multi_Fill_Campaign_1_161',\n",
        "       'Simple_Multi_Fill_Campaign_1_209',\n",
        "       'Simple_Multi_Fill_Campaign_1_175',\n",
        "       'Simple_Multi_Fill_Campaign_1_178',\n",
        "       'Simple_Multi_Fill_Campaign_1_187',\n",
        "       'Simple_Multi_Fill_Campaign_1_52',\n",
        "       'Simple_Multi_Fill_Campaign_1_181',\n",
        "       'Simple_Multi_Fill_Campaign_1_196',\n",
        "       'Simple_Multi_Fill_Campaign_1_194',\n",
        "       'Simple_Multi_Fill_Campaign_1_198',\n",
        "       'Simple_Multi_Fill_Campaign_1_200',\n",
        "       'Simple_Multi_Fill_Campaign_1_182',\n",
        "       'Simple_Multi_Fill_Campaign_1_189',\n",
        "       'Simple_Multi_Fill_Campaign_1_190',\n",
        "       'Simple_Multi_Fill_Campaign_1_183',\n",
        "       'Simple_Multi_Fill_Campaign_1_210',\n",
        "       'Simple_Multi_Fill_Campaign_1_192',\n",
        "       'Simple_Multi_Fill_Campaign_1_204',\n",
        "       'Simple_Multi_Fill_Campaign_1_174',\n",
        "       'Simple_Multi_Fill_Campaign_1_162',\n",
        "       'Simple_Multi_Fill_Campaign_1_159',\n",
        "       'Simple_Multi_Fill_Campaign_1_155',\n",
        "       'Simple_Multi_Fill_Campaign_1_169',\n",
        "       'Simple_Multi_Fill_Campaign_1_171',\n",
        "       'Simple_Multi_Fill_Campaign_1_129',\n",
        "       'Simple_Multi_Fill_Campaign_1_43',\n",
        "       'Simple_Multi_Fill_Campaign_1_20',\n",
        "       'Simple_Multi_Fill_Campaign_1_1',\n",
        "       'Simple_Multi_Fill_Campaign_1_16',\n",
        "       'Simple_Multi_Fill_Campaign_1_15',\n",
        "       'Simple_Multi_Fill_Campaign_1_33',\n",
        "       'Simple_Multi_Fill_Campaign_1_23',\n",
        "       'Simple_Multi_Fill_Campaign_1_24',\n",
        "       'Simple_Multi_Fill_Campaign_1_35',\n",
        "       'Simple_Multi_Fill_Campaign_1_26',\n",
        "       'Simple_Multi_Fill_Campaign_1_18',\n",
        "       'Simple_Multi_Fill_Campaign_1_14',\n",
        "       'Simple_Multi_Fill_Campaign_1_21',\n",
        "       'Simple_Multi_Fill_Campaign_1_17',\n",
        "       'Simple_Multi_Fill_Campaign_1_22',\n",
        "       'Simple_Multi_Fill_Campaign_1_6',\n",
        "       'http://travelpony...-Clicks-US-13-65',\n",
        "       'Travelpony-Page Likes-US-13-65', 'Ad 1'], ordered=True)\n",
        "df['Campaign Name'] = df['Campaign Name'].cat.codes"
      ],
      "execution_count": 0,
      "outputs": []
    },
    {
      "cell_type": "markdown",
      "metadata": {
        "id": "MVE6_9HcfGW4",
        "colab_type": "text"
      },
      "source": [
        "The above code creates a map of sortable categories by replacing category strings with ordinal data."
      ]
    },
    {
      "cell_type": "code",
      "metadata": {
        "id": "qinGYZ1perBk",
        "colab_type": "code",
        "outputId": "0976d5da-6640-44a8-d1d6-6d3181fd7a19",
        "colab": {
          "base_uri": "https://localhost:8080/",
          "height": 742
        }
      },
      "source": [
        "X = df[['Campaign Name', 'Reach', 'Frequency', 'Impressions', 'Clicks', 'Unique Clicks', 'Page Likes', 'Page Engagement', 'Post Engagement', 'Post Likes', 'Post Comments', 'Post Shares', 'Photo Views', 'Website Clicks']]\n",
        "Y = df['Amount Spent (USD)']\n",
        "X = sm.add_constant(X)\n",
        "\n",
        "model = sm.OLS(Y, X).fit()\n",
        "predictions = model.predict(X)\n",
        "\n",
        "print_model = model.summary()\n",
        "print(print_model)\n"
      ],
      "execution_count": 0,
      "outputs": [
        {
          "output_type": "stream",
          "text": [
            "                            OLS Regression Results                            \n",
            "==============================================================================\n",
            "Dep. Variable:     Amount Spent (USD)   R-squared:                       0.926\n",
            "Model:                            OLS   Adj. R-squared:                  0.926\n",
            "Method:                 Least Squares   F-statistic:                     1723.\n",
            "Date:                Thu, 21 Nov 2019   Prob (F-statistic):               0.00\n",
            "Time:                        01:42:13   Log-Likelihood:                -6601.0\n",
            "No. Observations:                1802   AIC:                         1.323e+04\n",
            "Df Residuals:                    1788   BIC:                         1.331e+04\n",
            "Df Model:                          13                                         \n",
            "Covariance Type:            nonrobust                                         \n",
            "===================================================================================\n",
            "                      coef    std err          t      P>|t|      [0.025      0.975]\n",
            "-----------------------------------------------------------------------------------\n",
            "const              -5.3550      1.520     -3.523      0.000      -8.336      -2.374\n",
            "Campaign Name      -0.0111      0.003     -4.073      0.000      -0.016      -0.006\n",
            "Reach               0.0034      0.000     22.102      0.000       0.003       0.004\n",
            "Frequency           6.1234      1.453      4.215      0.000       3.274       8.973\n",
            "Impressions        -0.0012   6.14e-05    -20.210      0.000      -0.001      -0.001\n",
            "Clicks             -0.1403      0.112     -1.253      0.210      -0.360       0.079\n",
            "Unique Clicks       0.2916      0.127      2.302      0.021       0.043       0.540\n",
            "Page Likes         23.4320      9.494      2.468      0.014       4.812      42.052\n",
            "Page Engagement   -20.0827      9.490     -2.116      0.034     -38.696      -1.470\n",
            "Post Engagement    17.0799      7.909      2.159      0.031       1.568      32.592\n",
            "Post Likes          2.4021      1.587      1.514      0.130      -0.710       5.514\n",
            "Post Comments       3.5084      1.650      2.127      0.034       0.273       6.744\n",
            "Post Shares         4.5438      1.610      2.822      0.005       1.386       7.701\n",
            "Photo Views         3.2326      1.585      2.040      0.042       0.124       6.341\n",
            "Website Clicks      3.3930      1.585      2.141      0.032       0.285       6.501\n",
            "==============================================================================\n",
            "Omnibus:                      901.619   Durbin-Watson:                   1.875\n",
            "Prob(Omnibus):                  0.000   Jarque-Bera (JB):            29126.440\n",
            "Skew:                           1.725   Prob(JB):                         0.00\n",
            "Kurtosis:                      22.391   Cond. No.                     3.54e+18\n",
            "==============================================================================\n",
            "\n",
            "Warnings:\n",
            "[1] Standard Errors assume that the covariance matrix of the errors is correctly specified.\n",
            "[2] The smallest eigenvalue is 1.54e-25. This might indicate that there are\n",
            "strong multicollinearity problems or that the design matrix is singular.\n"
          ],
          "name": "stdout"
        },
        {
          "output_type": "stream",
          "text": [
            "/usr/local/lib/python3.6/dist-packages/numpy/core/fromnumeric.py:2495: FutureWarning: Method .ptp is deprecated and will be removed in a future version. Use numpy.ptp instead.\n",
            "  return ptp(axis=axis, out=out, **kwargs)\n"
          ],
          "name": "stderr"
        }
      ]
    },
    {
      "cell_type": "markdown",
      "metadata": {
        "id": "KCNvdh2ynP8N",
        "colab_type": "text"
      },
      "source": [
        "The three predictors with the highest predictive value are:\n",
        "\n",
        "\n",
        "1.   Page Likes (23.4320)\n",
        "2.   Post Engagement (17.0799)\n",
        "3.   Frequency (6.1234)\n",
        "\n",
        "\n",
        "\n",
        "\n",
        "\n",
        "\n"
      ]
    }
  ]
}