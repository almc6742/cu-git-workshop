{
  "nbformat": 4,
  "nbformat_minor": 0,
  "metadata": {
    "colab": {
      "name": "Exercise 4: Geographic Selections",
      "provenance": [],
      "include_colab_link": true
    },
    "kernelspec": {
      "name": "python3",
      "display_name": "Python 3"
    }
  },
  "cells": [
    {
      "cell_type": "markdown",
      "metadata": {
        "id": "view-in-github",
        "colab_type": "text"
      },
      "source": [
        "<a href=\"https://colab.research.google.com/github/almc6742/cu-git-workshop/blob/master/Exercise_4_Geographic_Selections.ipynb\" target=\"_parent\"><img src=\"https://colab.research.google.com/assets/colab-badge.svg\" alt=\"Open In Colab\"/></a>"
      ]
    },
    {
      "cell_type": "code",
      "metadata": {
        "id": "ARNPA6wXsPv_",
        "colab_type": "code",
        "outputId": "39fccab6-2b64-40dd-9f72-15da94c61a74",
        "colab": {
          "base_uri": "https://localhost:8080/",
          "height": 121
        }
      },
      "source": [
        "import pandas as pd\n",
        "import requests\n",
        "import json\n",
        "from google.colab import drive\n",
        "drive.mount('/content/drive')"
      ],
      "execution_count": 1,
      "outputs": [
        {
          "output_type": "stream",
          "text": [
            "Go to this URL in a browser: https://accounts.google.com/o/oauth2/auth?client_id=947318989803-6bn6qk8qdgf4n4g3pfee6491hc0brc4i.apps.googleusercontent.com&redirect_uri=urn%3aietf%3awg%3aoauth%3a2.0%3aoob&response_type=code&scope=email%20https%3a%2f%2fwww.googleapis.com%2fauth%2fdocs.test%20https%3a%2f%2fwww.googleapis.com%2fauth%2fdrive%20https%3a%2f%2fwww.googleapis.com%2fauth%2fdrive.photos.readonly%20https%3a%2f%2fwww.googleapis.com%2fauth%2fpeopleapi.readonly\n",
            "\n",
            "Enter your authorization code:\n",
            "··········\n",
            "Mounted at /content/drive\n"
          ],
          "name": "stdout"
        }
      ]
    },
    {
      "cell_type": "code",
      "metadata": {
        "id": "DyxNeZqbuWuI",
        "colab_type": "code",
        "colab": {}
      },
      "source": [
        "msas = 'drive/My Drive/Colab Notebooks/msas.csv'\n",
        "df = pd.read_csv(msas)"
      ],
      "execution_count": 0,
      "outputs": []
    },
    {
      "cell_type": "markdown",
      "metadata": {
        "id": "tmMdRov8RFKl",
        "colab_type": "text"
      },
      "source": [
        "Organic Parameters:\n",
        "1. 50K to 74.9K\n",
        "2. 18-34\n",
        "3. Hispanic\n"
      ]
    },
    {
      "cell_type": "code",
      "metadata": {
        "id": "DZkzIBdQuygJ",
        "colab_type": "code",
        "colab": {}
      },
      "source": [
        "tableids = ['B01001', 'B03002', 'B19001']\n",
        "tableidstring = ','.join(tableids)"
      ],
      "execution_count": 0,
      "outputs": []
    },
    {
      "cell_type": "markdown",
      "metadata": {
        "id": "LaY9H6No3khF",
        "colab_type": "text"
      },
      "source": [
        "URL request for desired data tables from CensusReporter API:"
      ]
    },
    {
      "cell_type": "code",
      "metadata": {
        "id": "3U57FUwKTUll",
        "colab_type": "code",
        "colab": {}
      },
      "source": [
        "requesturl = 'https://api.censusreporter.org/1.0/data/show/latest?table_ids=%s&geo_ids=310|01000US' % tableidstring"
      ],
      "execution_count": 0,
      "outputs": []
    },
    {
      "cell_type": "code",
      "metadata": {
        "id": "Wsc_uioITe4w",
        "colab_type": "code",
        "colab": {}
      },
      "source": [
        "loadedjson = requests.get(requesturl)"
      ],
      "execution_count": 0,
      "outputs": []
    },
    {
      "cell_type": "markdown",
      "metadata": {
        "id": "JWwF2M3h3u4y",
        "colab_type": "text"
      },
      "source": [
        "Store json from API request and parse:"
      ]
    },
    {
      "cell_type": "code",
      "metadata": {
        "id": "0wBAYfmzU5tw",
        "colab_type": "code",
        "colab": {}
      },
      "source": [
        "parsedjson = loadedjson.json()"
      ],
      "execution_count": 0,
      "outputs": []
    },
    {
      "cell_type": "code",
      "metadata": {
        "id": "p3FrP1nZVoyU",
        "colab_type": "code",
        "outputId": "ef0f641c-d7a9-4920-e9da-5bae39fa2236",
        "colab": {
          "base_uri": "https://localhost:8080/",
          "height": 195
        }
      },
      "source": [
        "#Question 1\n",
        "#sort CBSA regions based on their 2017 population estimate\n",
        "df.sort_values(by=['POPESTIMATE2017'], ascending=False).head()"
      ],
      "execution_count": 7,
      "outputs": [
        {
          "output_type": "execute_result",
          "data": {
            "text/html": [
              "<div>\n",
              "<style scoped>\n",
              "    .dataframe tbody tr th:only-of-type {\n",
              "        vertical-align: middle;\n",
              "    }\n",
              "\n",
              "    .dataframe tbody tr th {\n",
              "        vertical-align: top;\n",
              "    }\n",
              "\n",
              "    .dataframe thead th {\n",
              "        text-align: right;\n",
              "    }\n",
              "</style>\n",
              "<table border=\"1\" class=\"dataframe\">\n",
              "  <thead>\n",
              "    <tr style=\"text-align: right;\">\n",
              "      <th></th>\n",
              "      <th>CBSA</th>\n",
              "      <th>NAME</th>\n",
              "      <th>POPESTIMATE2017</th>\n",
              "    </tr>\n",
              "  </thead>\n",
              "  <tbody>\n",
              "    <tr>\n",
              "      <th>249</th>\n",
              "      <td>35620</td>\n",
              "      <td>New York-Newark-Jersey City, NY-NJ-PA</td>\n",
              "      <td>20320876</td>\n",
              "    </tr>\n",
              "    <tr>\n",
              "      <th>210</th>\n",
              "      <td>31080</td>\n",
              "      <td>Los Angeles-Long Beach-Anaheim, CA</td>\n",
              "      <td>13353907</td>\n",
              "    </tr>\n",
              "    <tr>\n",
              "      <th>68</th>\n",
              "      <td>16980</td>\n",
              "      <td>Chicago-Naperville-Elgin, IL-IN-WI</td>\n",
              "      <td>9533040</td>\n",
              "    </tr>\n",
              "    <tr>\n",
              "      <th>86</th>\n",
              "      <td>19100</td>\n",
              "      <td>Dallas-Fort Worth-Arlington, TX</td>\n",
              "      <td>7399662</td>\n",
              "    </tr>\n",
              "    <tr>\n",
              "      <th>159</th>\n",
              "      <td>26420</td>\n",
              "      <td>Houston-The Woodlands-Sugar Land, TX</td>\n",
              "      <td>6892427</td>\n",
              "    </tr>\n",
              "  </tbody>\n",
              "</table>\n",
              "</div>"
            ],
            "text/plain": [
              "      CBSA                                   NAME  POPESTIMATE2017\n",
              "249  35620  New York-Newark-Jersey City, NY-NJ-PA         20320876\n",
              "210  31080     Los Angeles-Long Beach-Anaheim, CA         13353907\n",
              "68   16980     Chicago-Naperville-Elgin, IL-IN-WI          9533040\n",
              "86   19100        Dallas-Fort Worth-Arlington, TX          7399662\n",
              "159  26420   Houston-The Woodlands-Sugar Land, TX          6892427"
            ]
          },
          "metadata": {
            "tags": []
          },
          "execution_count": 7
        }
      ]
    },
    {
      "cell_type": "code",
      "metadata": {
        "id": "LR9oQKHSZhsy",
        "colab_type": "code",
        "outputId": "2481a135-9c4d-4d59-98f2-878006b5b166",
        "colab": {
          "base_uri": "https://localhost:8080/",
          "height": 302
        }
      },
      "source": [
        "#make a call from parsed json for data related to population by salary for first parameter\n",
        "parsedjson['data']['31000US35620']['B19001']['estimate']\n",
        "#'B19001011' = $50,000 to $59,999 and 'B19001012' = $60,000 to $74,999"
      ],
      "execution_count": 8,
      "outputs": [
        {
          "output_type": "execute_result",
          "data": {
            "text/plain": [
              "{'B19001001': 7168027.0,\n",
              " 'B19001002': 478614.0,\n",
              " 'B19001003': 330184.0,\n",
              " 'B19001004': 296675.0,\n",
              " 'B19001005': 291324.0,\n",
              " 'B19001006': 267636.0,\n",
              " 'B19001007': 266550.0,\n",
              " 'B19001008': 251442.0,\n",
              " 'B19001009': 248742.0,\n",
              " 'B19001010': 216645.0,\n",
              " 'B19001011': 444453.0,\n",
              " 'B19001012': 606435.0,\n",
              " 'B19001013': 824870.0,\n",
              " 'B19001014': 670890.0,\n",
              " 'B19001015': 481361.0,\n",
              " 'B19001016': 630168.0,\n",
              " 'B19001017': 862038.0}"
            ]
          },
          "metadata": {
            "tags": []
          },
          "execution_count": 8
        }
      ]
    },
    {
      "cell_type": "markdown",
      "metadata": {
        "id": "G3n-gA50nKVo",
        "colab_type": "text"
      },
      "source": [
        "1. The New York-Newark-Jersey City, NY-NJ-PA Metro Area has the most residents (1,050,888) with an income between $50,000 to $74,999."
      ]
    },
    {
      "cell_type": "code",
      "metadata": {
        "id": "QGCJt6uBnIwo",
        "colab_type": "code",
        "colab": {
          "base_uri": "https://localhost:8080/",
          "height": 840
        },
        "outputId": "64f06dc6-9494-48e3-83e1-c7a5b2af9b88"
      },
      "source": [
        "#Question 2\n",
        "#make a call from parsed json for data related to population by age\n",
        "parsedjson['data']['31000US35620']['B01001']['estimate']\n",
        "#focus on 7-12"
      ],
      "execution_count": 11,
      "outputs": [
        {
          "output_type": "execute_result",
          "data": {
            "text/plain": [
              "{'B01001001': 20192042.0,\n",
              " 'B01001002': 9762858.0,\n",
              " 'B01001003': 632584.0,\n",
              " 'B01001004': 611017.0,\n",
              " 'B01001005': 624418.0,\n",
              " 'B01001006': 385399.0,\n",
              " 'B01001007': 248434.0,\n",
              " 'B01001008': 133732.0,\n",
              " 'B01001009': 132580.0,\n",
              " 'B01001010': 411899.0,\n",
              " 'B01001011': 750663.0,\n",
              " 'B01001012': 714983.0,\n",
              " 'B01001013': 660955.0,\n",
              " 'B01001014': 643736.0,\n",
              " 'B01001015': 677473.0,\n",
              " 'B01001016': 699632.0,\n",
              " 'B01001017': 642501.0,\n",
              " 'B01001018': 237891.0,\n",
              " 'B01001019': 314944.0,\n",
              " 'B01001020': 189012.0,\n",
              " 'B01001021': 242555.0,\n",
              " 'B01001022': 303854.0,\n",
              " 'B01001023': 213991.0,\n",
              " 'B01001024': 149206.0,\n",
              " 'B01001025': 141399.0,\n",
              " 'B01001026': 10429184.0,\n",
              " 'B01001027': 604184.0,\n",
              " 'B01001028': 587836.0,\n",
              " 'B01001029': 595623.0,\n",
              " 'B01001030': 368965.0,\n",
              " 'B01001031': 237913.0,\n",
              " 'B01001032': 129681.0,\n",
              " 'B01001033': 129093.0,\n",
              " 'B01001034': 416225.0,\n",
              " 'B01001035': 762402.0,\n",
              " 'B01001036': 730200.0,\n",
              " 'B01001037': 684982.0,\n",
              " 'B01001038': 674162.0,\n",
              " 'B01001039': 720797.0,\n",
              " 'B01001040': 749155.0,\n",
              " 'B01001041': 704947.0,\n",
              " 'B01001042': 266804.0,\n",
              " 'B01001043': 352062.0,\n",
              " 'B01001044': 226890.0,\n",
              " 'B01001045': 288021.0,\n",
              " 'B01001046': 388112.0,\n",
              " 'B01001047': 291371.0,\n",
              " 'B01001048': 226537.0,\n",
              " 'B01001049': 293222.0}"
            ]
          },
          "metadata": {
            "tags": []
          },
          "execution_count": 11
        }
      ]
    },
    {
      "cell_type": "code",
      "metadata": {
        "id": "JEw9cpvB-rxL",
        "colab_type": "code",
        "colab": {
          "base_uri": "https://localhost:8080/",
          "height": 34
        },
        "outputId": "e3028ee3-dc02-45f7-e49f-758e152de0dd"
      },
      "source": [
        "#'B01001007': 248434.0,\n",
        "#'B01001008': 133732.0,\n",
        "#'B01001009': 132580.0,\n",
        "#'B01001010': 411899.0,\n",
        "#'B01001011': 750663.0,\n",
        "#'B01001012': 714983.0\n",
        "248434+133732+132580+411899+750663+714983"
      ],
      "execution_count": 14,
      "outputs": [
        {
          "output_type": "execute_result",
          "data": {
            "text/plain": [
              "2392291"
            ]
          },
          "metadata": {
            "tags": []
          },
          "execution_count": 14
        }
      ]
    },
    {
      "cell_type": "markdown",
      "metadata": {
        "id": "i9-NYTUV_Ldr",
        "colab_type": "text"
      },
      "source": [
        "2. The New York-Newark-Jersey City, NY-NJ-PA Metro Area has the most residents (2,392,291) between the ages of 18-34."
      ]
    },
    {
      "cell_type": "code",
      "metadata": {
        "id": "aLipPDbB_PM3",
        "colab_type": "code",
        "colab": {
          "base_uri": "https://localhost:8080/",
          "height": 370
        },
        "outputId": "518743a2-45d8-41d0-ba44-0f3918699afb"
      },
      "source": [
        "#Question 3\n",
        "#make a call from parsedjson for data related to population by ethnicity\n",
        "parsedjson['data']['31000US31080']['B03002']['estimate']\n",
        "#focus on 12"
      ],
      "execution_count": 15,
      "outputs": [
        {
          "output_type": "execute_result",
          "data": {
            "text/plain": [
              "{'B03002001': 13261538.0,\n",
              " 'B03002002': 7288787.0,\n",
              " 'B03002003': 3983380.0,\n",
              " 'B03002004': 849139.0,\n",
              " 'B03002005': 26499.0,\n",
              " 'B03002006': 2058236.0,\n",
              " 'B03002007': 33664.0,\n",
              " 'B03002008': 34233.0,\n",
              " 'B03002009': 303636.0,\n",
              " 'B03002010': 17353.0,\n",
              " 'B03002011': 286283.0,\n",
              " 'B03002012': 5972751.0,\n",
              " 'B03002013': 3209939.0,\n",
              " 'B03002014': 33104.0,\n",
              " 'B03002015': 56180.0,\n",
              " 'B03002016': 23450.0,\n",
              " 'B03002017': 3647.0,\n",
              " 'B03002018': 2440456.0,\n",
              " 'B03002019': 205975.0,\n",
              " 'B03002020': 114543.0,\n",
              " 'B03002021': 91432.0}"
            ]
          },
          "metadata": {
            "tags": []
          },
          "execution_count": 15
        }
      ]
    },
    {
      "cell_type": "markdown",
      "metadata": {
        "id": "2Jnsft0s_5Qr",
        "colab_type": "text"
      },
      "source": [
        "3. The Los Angeles-Long Beach-Anaheim, CA Metro Area has the greatest Hispanic population at 5,972,751 people."
      ]
    }
  ]
}