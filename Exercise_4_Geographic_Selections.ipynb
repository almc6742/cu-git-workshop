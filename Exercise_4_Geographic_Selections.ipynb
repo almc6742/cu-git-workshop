{
  "nbformat": 4,
  "nbformat_minor": 0,
  "metadata": {
    "colab": {
      "name": "Exercise 4: Geographic Selections",
      "provenance": [],
      "include_colab_link": true
    },
    "kernelspec": {
      "name": "python3",
      "display_name": "Python 3"
    }
  },
  "cells": [
    {
      "cell_type": "markdown",
      "metadata": {
        "id": "view-in-github",
        "colab_type": "text"
      },
      "source": [
        "<a href=\"https://colab.research.google.com/github/almc6742/cu-git-workshop/blob/master/Exercise_4_Geographic_Selections.ipynb\" target=\"_parent\"><img src=\"https://colab.research.google.com/assets/colab-badge.svg\" alt=\"Open In Colab\"/></a>"
      ]
    },
    {
      "cell_type": "code",
      "metadata": {
        "id": "ARNPA6wXsPv_",
        "colab_type": "code",
        "outputId": "21c2fff2-7f01-44ac-fe54-b3dc49ac3240",
        "colab": {
          "base_uri": "https://localhost:8080/",
          "height": 34
        }
      },
      "source": [
        "import pandas as pd\n",
        "import requests\n",
        "import json\n",
        "from google.colab import drive\n",
        "drive.mount('/content/drive')"
      ],
      "execution_count": 1,
      "outputs": [
        {
          "output_type": "stream",
          "text": [
            "Drive already mounted at /content/drive; to attempt to forcibly remount, call drive.mount(\"/content/drive\", force_remount=True).\n"
          ],
          "name": "stdout"
        }
      ]
    },
    {
      "cell_type": "code",
      "metadata": {
        "id": "DyxNeZqbuWuI",
        "colab_type": "code",
        "colab": {}
      },
      "source": [
        "msas = 'drive/My Drive/Colab Notebooks/msas.csv'\n",
        "df = pd.read_csv(msas)"
      ],
      "execution_count": 0,
      "outputs": []
    },
    {
      "cell_type": "markdown",
      "metadata": {
        "id": "tmMdRov8RFKl",
        "colab_type": "text"
      },
      "source": [
        "Organic Parameters:\n",
        "1. 50K to 74.9K\n",
        "2. 18-34\n",
        "3. Hispanic\n"
      ]
    },
    {
      "cell_type": "code",
      "metadata": {
        "id": "DZkzIBdQuygJ",
        "colab_type": "code",
        "colab": {}
      },
      "source": [
        "tableids = ['B01001', 'B03002', 'B19001']\n",
        "tableidstring = ','.join(tableids)"
      ],
      "execution_count": 0,
      "outputs": []
    },
    {
      "cell_type": "markdown",
      "metadata": {
        "id": "LaY9H6No3khF",
        "colab_type": "text"
      },
      "source": [
        "URL request for desired data tables from CensusReporter API:"
      ]
    },
    {
      "cell_type": "code",
      "metadata": {
        "id": "3U57FUwKTUll",
        "colab_type": "code",
        "colab": {}
      },
      "source": [
        "requesturl = 'https://api.censusreporter.org/1.0/data/show/latest?table_ids=%s&geo_ids=310|01000US' % tableidstring"
      ],
      "execution_count": 0,
      "outputs": []
    },
    {
      "cell_type": "code",
      "metadata": {
        "id": "Wsc_uioITe4w",
        "colab_type": "code",
        "colab": {}
      },
      "source": [
        "loadedjson = requests.get(requesturl)"
      ],
      "execution_count": 0,
      "outputs": []
    },
    {
      "cell_type": "markdown",
      "metadata": {
        "id": "JWwF2M3h3u4y",
        "colab_type": "text"
      },
      "source": [
        "Store json from API request and parse:"
      ]
    },
    {
      "cell_type": "code",
      "metadata": {
        "id": "0wBAYfmzU5tw",
        "colab_type": "code",
        "colab": {}
      },
      "source": [
        "parsedjson = loadedjson.json()"
      ],
      "execution_count": 0,
      "outputs": []
    },
    {
      "cell_type": "code",
      "metadata": {
        "id": "p3FrP1nZVoyU",
        "colab_type": "code",
        "outputId": "a97cc802-fed0-4208-9e20-16e9e055878e",
        "colab": {
          "base_uri": "https://localhost:8080/",
          "height": 195
        }
      },
      "source": [
        "#Question 1\n",
        "#sort CBSA regions based on their 2017 population estimate\n",
        "df.sort_values(by=['POPESTIMATE2017'], ascending=False).head()"
      ],
      "execution_count": 7,
      "outputs": [
        {
          "output_type": "execute_result",
          "data": {
            "text/html": [
              "<div>\n",
              "<style scoped>\n",
              "    .dataframe tbody tr th:only-of-type {\n",
              "        vertical-align: middle;\n",
              "    }\n",
              "\n",
              "    .dataframe tbody tr th {\n",
              "        vertical-align: top;\n",
              "    }\n",
              "\n",
              "    .dataframe thead th {\n",
              "        text-align: right;\n",
              "    }\n",
              "</style>\n",
              "<table border=\"1\" class=\"dataframe\">\n",
              "  <thead>\n",
              "    <tr style=\"text-align: right;\">\n",
              "      <th></th>\n",
              "      <th>CBSA</th>\n",
              "      <th>NAME</th>\n",
              "      <th>POPESTIMATE2017</th>\n",
              "    </tr>\n",
              "  </thead>\n",
              "  <tbody>\n",
              "    <tr>\n",
              "      <th>249</th>\n",
              "      <td>35620</td>\n",
              "      <td>New York-Newark-Jersey City, NY-NJ-PA</td>\n",
              "      <td>20320876</td>\n",
              "    </tr>\n",
              "    <tr>\n",
              "      <th>210</th>\n",
              "      <td>31080</td>\n",
              "      <td>Los Angeles-Long Beach-Anaheim, CA</td>\n",
              "      <td>13353907</td>\n",
              "    </tr>\n",
              "    <tr>\n",
              "      <th>68</th>\n",
              "      <td>16980</td>\n",
              "      <td>Chicago-Naperville-Elgin, IL-IN-WI</td>\n",
              "      <td>9533040</td>\n",
              "    </tr>\n",
              "    <tr>\n",
              "      <th>86</th>\n",
              "      <td>19100</td>\n",
              "      <td>Dallas-Fort Worth-Arlington, TX</td>\n",
              "      <td>7399662</td>\n",
              "    </tr>\n",
              "    <tr>\n",
              "      <th>159</th>\n",
              "      <td>26420</td>\n",
              "      <td>Houston-The Woodlands-Sugar Land, TX</td>\n",
              "      <td>6892427</td>\n",
              "    </tr>\n",
              "  </tbody>\n",
              "</table>\n",
              "</div>"
            ],
            "text/plain": [
              "      CBSA                                   NAME  POPESTIMATE2017\n",
              "249  35620  New York-Newark-Jersey City, NY-NJ-PA         20320876\n",
              "210  31080     Los Angeles-Long Beach-Anaheim, CA         13353907\n",
              "68   16980     Chicago-Naperville-Elgin, IL-IN-WI          9533040\n",
              "86   19100        Dallas-Fort Worth-Arlington, TX          7399662\n",
              "159  26420   Houston-The Woodlands-Sugar Land, TX          6892427"
            ]
          },
          "metadata": {
            "tags": []
          },
          "execution_count": 7
        }
      ]
    },
    {
      "cell_type": "code",
      "metadata": {
        "id": "n-Z8Y1WMKnTX",
        "colab_type": "code",
        "colab": {
          "base_uri": "https://localhost:8080/",
          "height": 34
        },
        "outputId": "6dd96d8d-3cae-40c4-cc58-af235a8d53fe"
      },
      "source": [
        "income50 = pd.DataFrame({ 'income50': { id_: data['B19001']['estimate']['B19001011'] for id_, data in parsedjson['data'].items() }})\n",
        "income50 = income50.reset_index()\n",
        "income60 = pd.DataFrame({ 'income60': { id_: data['B19001']['estimate']['B19001012'] for id_, data in parsedjson['data'].items() }})\n",
        "income60 = income60.reset_index()\n",
        "incomes = income60.merge(income50, how = 'inner', on = ['index'])\n",
        "incomes = incomes.rename(columns={'index':'CBSA'})\n",
        "incomes['CBSA'] = incomes['CBSA'].str.replace(r'31000US', '').astype(int)\n",
        "incomes['Total'] = incomes['income50'] + incomes['income60']\n",
        "incomes['Total'].max()"
      ],
      "execution_count": 8,
      "outputs": [
        {
          "output_type": "execute_result",
          "data": {
            "text/plain": [
              "1050888.0"
            ]
          },
          "metadata": {
            "tags": []
          },
          "execution_count": 8
        }
      ]
    },
    {
      "cell_type": "code",
      "metadata": {
        "id": "67hAfmQdK_7E",
        "colab_type": "code",
        "colab": {
          "base_uri": "https://localhost:8080/",
          "height": 77
        },
        "outputId": "f21313fb-9944-4278-aa95-04fff579cb65"
      },
      "source": [
        "incomes[incomes['Total']==1050888.0]"
      ],
      "execution_count": 9,
      "outputs": [
        {
          "output_type": "execute_result",
          "data": {
            "text/html": [
              "<div>\n",
              "<style scoped>\n",
              "    .dataframe tbody tr th:only-of-type {\n",
              "        vertical-align: middle;\n",
              "    }\n",
              "\n",
              "    .dataframe tbody tr th {\n",
              "        vertical-align: top;\n",
              "    }\n",
              "\n",
              "    .dataframe thead th {\n",
              "        text-align: right;\n",
              "    }\n",
              "</style>\n",
              "<table border=\"1\" class=\"dataframe\">\n",
              "  <thead>\n",
              "    <tr style=\"text-align: right;\">\n",
              "      <th></th>\n",
              "      <th>CBSA</th>\n",
              "      <th>income60</th>\n",
              "      <th>income50</th>\n",
              "      <th>Total</th>\n",
              "    </tr>\n",
              "  </thead>\n",
              "  <tbody>\n",
              "    <tr>\n",
              "      <th>616</th>\n",
              "      <td>35620</td>\n",
              "      <td>606435.0</td>\n",
              "      <td>444453.0</td>\n",
              "      <td>1050888.0</td>\n",
              "    </tr>\n",
              "  </tbody>\n",
              "</table>\n",
              "</div>"
            ],
            "text/plain": [
              "      CBSA  income60  income50      Total\n",
              "616  35620  606435.0  444453.0  1050888.0"
            ]
          },
          "metadata": {
            "tags": []
          },
          "execution_count": 9
        }
      ]
    },
    {
      "cell_type": "code",
      "metadata": {
        "id": "LR9oQKHSZhsy",
        "colab_type": "code",
        "outputId": "b0ff9a85-914d-4cbd-fff7-d14355a0df0c",
        "colab": {
          "base_uri": "https://localhost:8080/",
          "height": 302
        }
      },
      "source": [
        "#make a call from parsed json for data related to population by salary for first parameter\n",
        "parsedjson['data']['31000US35620']['B19001']['estimate']\n",
        "#'B19001011' = $50,000 to $59,999 and 'B19001012' = $60,000 to $74,999"
      ],
      "execution_count": 10,
      "outputs": [
        {
          "output_type": "execute_result",
          "data": {
            "text/plain": [
              "{'B19001001': 7168027.0,\n",
              " 'B19001002': 478614.0,\n",
              " 'B19001003': 330184.0,\n",
              " 'B19001004': 296675.0,\n",
              " 'B19001005': 291324.0,\n",
              " 'B19001006': 267636.0,\n",
              " 'B19001007': 266550.0,\n",
              " 'B19001008': 251442.0,\n",
              " 'B19001009': 248742.0,\n",
              " 'B19001010': 216645.0,\n",
              " 'B19001011': 444453.0,\n",
              " 'B19001012': 606435.0,\n",
              " 'B19001013': 824870.0,\n",
              " 'B19001014': 670890.0,\n",
              " 'B19001015': 481361.0,\n",
              " 'B19001016': 630168.0,\n",
              " 'B19001017': 862038.0}"
            ]
          },
          "metadata": {
            "tags": []
          },
          "execution_count": 10
        }
      ]
    },
    {
      "cell_type": "markdown",
      "metadata": {
        "id": "G3n-gA50nKVo",
        "colab_type": "text"
      },
      "source": [
        "1. The New York-Newark-Jersey City, NY-NJ-PA Metro Area has the most residents (1,050,888) with an income between $50,000 to $74,999."
      ]
    },
    {
      "cell_type": "code",
      "metadata": {
        "id": "QGCJt6uBnIwo",
        "colab_type": "code",
        "outputId": "66664f13-14e6-41a3-a5e7-f1d355bf9922",
        "colab": {
          "base_uri": "https://localhost:8080/",
          "height": 840
        }
      },
      "source": [
        "#Question 2\n",
        "#make a call from parsed json for data related to population by age\n",
        "parsedjson['data']['31000US35620']['B01001']['estimate']\n",
        "#focus on B01001007, B01001008, B01001009, B01001010, B01001011B01001012"
      ],
      "execution_count": 11,
      "outputs": [
        {
          "output_type": "execute_result",
          "data": {
            "text/plain": [
              "{'B01001001': 20192042.0,\n",
              " 'B01001002': 9762858.0,\n",
              " 'B01001003': 632584.0,\n",
              " 'B01001004': 611017.0,\n",
              " 'B01001005': 624418.0,\n",
              " 'B01001006': 385399.0,\n",
              " 'B01001007': 248434.0,\n",
              " 'B01001008': 133732.0,\n",
              " 'B01001009': 132580.0,\n",
              " 'B01001010': 411899.0,\n",
              " 'B01001011': 750663.0,\n",
              " 'B01001012': 714983.0,\n",
              " 'B01001013': 660955.0,\n",
              " 'B01001014': 643736.0,\n",
              " 'B01001015': 677473.0,\n",
              " 'B01001016': 699632.0,\n",
              " 'B01001017': 642501.0,\n",
              " 'B01001018': 237891.0,\n",
              " 'B01001019': 314944.0,\n",
              " 'B01001020': 189012.0,\n",
              " 'B01001021': 242555.0,\n",
              " 'B01001022': 303854.0,\n",
              " 'B01001023': 213991.0,\n",
              " 'B01001024': 149206.0,\n",
              " 'B01001025': 141399.0,\n",
              " 'B01001026': 10429184.0,\n",
              " 'B01001027': 604184.0,\n",
              " 'B01001028': 587836.0,\n",
              " 'B01001029': 595623.0,\n",
              " 'B01001030': 368965.0,\n",
              " 'B01001031': 237913.0,\n",
              " 'B01001032': 129681.0,\n",
              " 'B01001033': 129093.0,\n",
              " 'B01001034': 416225.0,\n",
              " 'B01001035': 762402.0,\n",
              " 'B01001036': 730200.0,\n",
              " 'B01001037': 684982.0,\n",
              " 'B01001038': 674162.0,\n",
              " 'B01001039': 720797.0,\n",
              " 'B01001040': 749155.0,\n",
              " 'B01001041': 704947.0,\n",
              " 'B01001042': 266804.0,\n",
              " 'B01001043': 352062.0,\n",
              " 'B01001044': 226890.0,\n",
              " 'B01001045': 288021.0,\n",
              " 'B01001046': 388112.0,\n",
              " 'B01001047': 291371.0,\n",
              " 'B01001048': 226537.0,\n",
              " 'B01001049': 293222.0}"
            ]
          },
          "metadata": {
            "tags": []
          },
          "execution_count": 11
        }
      ]
    },
    {
      "cell_type": "code",
      "metadata": {
        "id": "Xa2zcJZOLRsx",
        "colab_type": "code",
        "colab": {
          "base_uri": "https://localhost:8080/",
          "height": 34
        },
        "outputId": "f8b08b2c-edd0-47ff-f366-61faf0ca9cdc"
      },
      "source": [
        "age7 = pd.DataFrame({ '18to19': { id_: data['B01001']['estimate']['B01001007'] for id_, data in parsedjson['data'].items() }})\n",
        "age7 = age7.reset_index()\n",
        "age8 = pd.DataFrame({ '20': { id_: data['B01001']['estimate']['B01001008'] for id_, data in parsedjson['data'].items() }})\n",
        "age8 = age8.reset_index()\n",
        "age9 = pd.DataFrame({ '21': { id_: data['B01001']['estimate']['B01001009'] for id_, data in parsedjson['data'].items() }})\n",
        "age9 = age9.reset_index()\n",
        "age10 = pd.DataFrame({ '22to24': { id_: data['B01001']['estimate']['B01001010'] for id_, data in parsedjson['data'].items() }})\n",
        "age10 = age10.reset_index()\n",
        "age11 = pd.DataFrame({ '25to29': { id_: data['B01001']['estimate']['B01001011'] for id_, data in parsedjson['data'].items() }})\n",
        "age11 = age11.reset_index()\n",
        "age12 = pd.DataFrame({ '30to34': { id_: data['B01001']['estimate']['B01001012'] for id_, data in parsedjson['data'].items() }})\n",
        "age12 = age12.reset_index()\n",
        "ages1 = age7.merge(age8, how = 'inner', on = ['index'])\n",
        "ages2 = ages1.merge(age9, how = 'inner', on = ['index'])\n",
        "ages3 = ages2.merge(age10, how = 'inner', on = ['index'])\n",
        "ages4 = ages3.merge(age11, how = 'inner', on = ['index'])\n",
        "ages = ages4.merge(age12, how = 'inner', on = ['index'])\n",
        "ages = ages.rename(columns={'index':'CBSA'})\n",
        "ages['CBSA'] = ages['CBSA'].str.replace(r'31000US', '').astype(int)\n",
        "ages['Total'] = ages['18to19'] + ages['20'] + ages['21'] + ages['22to24'] + ages['25to29'] + ages['30to34']\n",
        "ages['Total'].max()"
      ],
      "execution_count": 12,
      "outputs": [
        {
          "output_type": "execute_result",
          "data": {
            "text/plain": [
              "2392291.0"
            ]
          },
          "metadata": {
            "tags": []
          },
          "execution_count": 12
        }
      ]
    },
    {
      "cell_type": "code",
      "metadata": {
        "id": "hSYixNhPLaCl",
        "colab_type": "code",
        "colab": {
          "base_uri": "https://localhost:8080/",
          "height": 77
        },
        "outputId": "4e22f9ab-bf5e-4924-dc8c-8e4d11b28016"
      },
      "source": [
        "ages[ages['Total']==2392291.0]"
      ],
      "execution_count": 13,
      "outputs": [
        {
          "output_type": "execute_result",
          "data": {
            "text/html": [
              "<div>\n",
              "<style scoped>\n",
              "    .dataframe tbody tr th:only-of-type {\n",
              "        vertical-align: middle;\n",
              "    }\n",
              "\n",
              "    .dataframe tbody tr th {\n",
              "        vertical-align: top;\n",
              "    }\n",
              "\n",
              "    .dataframe thead th {\n",
              "        text-align: right;\n",
              "    }\n",
              "</style>\n",
              "<table border=\"1\" class=\"dataframe\">\n",
              "  <thead>\n",
              "    <tr style=\"text-align: right;\">\n",
              "      <th></th>\n",
              "      <th>CBSA</th>\n",
              "      <th>18to19</th>\n",
              "      <th>20</th>\n",
              "      <th>21</th>\n",
              "      <th>22to24</th>\n",
              "      <th>25to29</th>\n",
              "      <th>30to34</th>\n",
              "      <th>Total</th>\n",
              "    </tr>\n",
              "  </thead>\n",
              "  <tbody>\n",
              "    <tr>\n",
              "      <th>616</th>\n",
              "      <td>35620</td>\n",
              "      <td>248434.0</td>\n",
              "      <td>133732.0</td>\n",
              "      <td>132580.0</td>\n",
              "      <td>411899.0</td>\n",
              "      <td>750663.0</td>\n",
              "      <td>714983.0</td>\n",
              "      <td>2392291.0</td>\n",
              "    </tr>\n",
              "  </tbody>\n",
              "</table>\n",
              "</div>"
            ],
            "text/plain": [
              "      CBSA    18to19        20  ...    25to29    30to34      Total\n",
              "616  35620  248434.0  133732.0  ...  750663.0  714983.0  2392291.0\n",
              "\n",
              "[1 rows x 8 columns]"
            ]
          },
          "metadata": {
            "tags": []
          },
          "execution_count": 13
        }
      ]
    },
    {
      "cell_type": "markdown",
      "metadata": {
        "id": "i9-NYTUV_Ldr",
        "colab_type": "text"
      },
      "source": [
        "2. The New York-Newark-Jersey City, NY-NJ-PA Metro Area has the most residents (2,392,291) between the ages of 18-34."
      ]
    },
    {
      "cell_type": "code",
      "metadata": {
        "id": "aLipPDbB_PM3",
        "colab_type": "code",
        "outputId": "35ee93e2-2bd1-4326-d0ff-f8aebe96138e",
        "colab": {
          "base_uri": "https://localhost:8080/",
          "height": 370
        }
      },
      "source": [
        "#Question 3\n",
        "#make a call from parsedjson for data related to population by ethnicity\n",
        "parsedjson['data']['31000US31080']['B03002']['estimate']\n",
        "#focus on 12"
      ],
      "execution_count": 14,
      "outputs": [
        {
          "output_type": "execute_result",
          "data": {
            "text/plain": [
              "{'B03002001': 13261538.0,\n",
              " 'B03002002': 7288787.0,\n",
              " 'B03002003': 3983380.0,\n",
              " 'B03002004': 849139.0,\n",
              " 'B03002005': 26499.0,\n",
              " 'B03002006': 2058236.0,\n",
              " 'B03002007': 33664.0,\n",
              " 'B03002008': 34233.0,\n",
              " 'B03002009': 303636.0,\n",
              " 'B03002010': 17353.0,\n",
              " 'B03002011': 286283.0,\n",
              " 'B03002012': 5972751.0,\n",
              " 'B03002013': 3209939.0,\n",
              " 'B03002014': 33104.0,\n",
              " 'B03002015': 56180.0,\n",
              " 'B03002016': 23450.0,\n",
              " 'B03002017': 3647.0,\n",
              " 'B03002018': 2440456.0,\n",
              " 'B03002019': 205975.0,\n",
              " 'B03002020': 114543.0,\n",
              " 'B03002021': 91432.0}"
            ]
          },
          "metadata": {
            "tags": []
          },
          "execution_count": 14
        }
      ]
    },
    {
      "cell_type": "code",
      "metadata": {
        "id": "KN00tYfSMsby",
        "colab_type": "code",
        "colab": {
          "base_uri": "https://localhost:8080/",
          "height": 34
        },
        "outputId": "80ad8fa7-8f99-4bb7-b116-aab1a099544e"
      },
      "source": [
        "hispanic = pd.DataFrame({ 'Total': { id_: data['B03002']['estimate']['B03002012'] for id_, data in parsedjson['data'].items() }})\n",
        "hispanic = hispanic.reset_index()\n",
        "hispanic = hispanic.rename(columns={'index':'CBSA'})\n",
        "hispanic['CBSA'] = hispanic['CBSA'].str.replace(r'31000US', '').astype(int)\n",
        "hispanic['Total'].max()"
      ],
      "execution_count": 15,
      "outputs": [
        {
          "output_type": "execute_result",
          "data": {
            "text/plain": [
              "5972751.0"
            ]
          },
          "metadata": {
            "tags": []
          },
          "execution_count": 15
        }
      ]
    },
    {
      "cell_type": "code",
      "metadata": {
        "id": "m9lvbk2vMuBU",
        "colab_type": "code",
        "colab": {
          "base_uri": "https://localhost:8080/",
          "height": 77
        },
        "outputId": "8dda0d15-db03-4e93-d94b-aedc4e6efb15"
      },
      "source": [
        "hispanic[hispanic['Total']==5972751.0]"
      ],
      "execution_count": 16,
      "outputs": [
        {
          "output_type": "execute_result",
          "data": {
            "text/html": [
              "<div>\n",
              "<style scoped>\n",
              "    .dataframe tbody tr th:only-of-type {\n",
              "        vertical-align: middle;\n",
              "    }\n",
              "\n",
              "    .dataframe tbody tr th {\n",
              "        vertical-align: top;\n",
              "    }\n",
              "\n",
              "    .dataframe thead th {\n",
              "        text-align: right;\n",
              "    }\n",
              "</style>\n",
              "<table border=\"1\" class=\"dataframe\">\n",
              "  <thead>\n",
              "    <tr style=\"text-align: right;\">\n",
              "      <th></th>\n",
              "      <th>CBSA</th>\n",
              "      <th>Total</th>\n",
              "    </tr>\n",
              "  </thead>\n",
              "  <tbody>\n",
              "    <tr>\n",
              "      <th>506</th>\n",
              "      <td>31080</td>\n",
              "      <td>5972751.0</td>\n",
              "    </tr>\n",
              "  </tbody>\n",
              "</table>\n",
              "</div>"
            ],
            "text/plain": [
              "      CBSA      Total\n",
              "506  31080  5972751.0"
            ]
          },
          "metadata": {
            "tags": []
          },
          "execution_count": 16
        }
      ]
    },
    {
      "cell_type": "markdown",
      "metadata": {
        "id": "2Jnsft0s_5Qr",
        "colab_type": "text"
      },
      "source": [
        "3. The Los Angeles-Long Beach-Anaheim, CA Metro Area has the greatest Hispanic population at 5,972,751 people."
      ]
    },
    {
      "cell_type": "code",
      "metadata": {
        "id": "HPzf1Vsq9Na-",
        "colab_type": "code",
        "colab": {
          "base_uri": "https://localhost:8080/",
          "height": 34
        },
        "outputId": "b878e2ff-be44-4d49-f340-9e6edc4b4340"
      },
      "source": [
        "#Question 4\n",
        "##Parameter 1 Calculation\n",
        "incomes['Income Mean Percentage'] = (incomes['Total']/incomes['Total'].max())*100\n",
        "\n",
        "#Parameter 2 Calculation\n",
        "ages['Age Mean Percentage'] = (ages['Total']/ages['Total'].max())*100\n",
        "\n",
        "#Parameter 3 Calculation\n",
        "hispanic['Hispanic Mean Percentage'] = (hispanic['Total']/hispanic['Total'].max())*100\n",
        "\n",
        "Q4 = pd.DataFrame([incomes['CBSA'], incomes['Income Mean Percentage'],ages['Age Mean Percentage'],hispanic['Hispanic Mean Percentage']]).transpose()\n",
        "Q4['Mean of All 3'] = (Q4['Hispanic Mean Percentage']+Q4['Income Mean Percentage']+Q4['Age Mean Percentage'])/3\n",
        "Q4['Mean of All 3'].max()"
      ],
      "execution_count": 17,
      "outputs": [
        {
          "output_type": "execute_result",
          "data": {
            "text/plain": [
              "93.8099489944695"
            ]
          },
          "metadata": {
            "tags": []
          },
          "execution_count": 17
        }
      ]
    },
    {
      "cell_type": "code",
      "metadata": {
        "id": "1wUfST39H7Qa",
        "colab_type": "code",
        "colab": {
          "base_uri": "https://localhost:8080/",
          "height": 77
        },
        "outputId": "efb8f7ea-c7c1-4f4a-fabe-a867a25a0d32"
      },
      "source": [
        "Q4[Q4['Mean of All 3']==93.8099489944695]"
      ],
      "execution_count": 18,
      "outputs": [
        {
          "output_type": "execute_result",
          "data": {
            "text/html": [
              "<div>\n",
              "<style scoped>\n",
              "    .dataframe tbody tr th:only-of-type {\n",
              "        vertical-align: middle;\n",
              "    }\n",
              "\n",
              "    .dataframe tbody tr th {\n",
              "        vertical-align: top;\n",
              "    }\n",
              "\n",
              "    .dataframe thead th {\n",
              "        text-align: right;\n",
              "    }\n",
              "</style>\n",
              "<table border=\"1\" class=\"dataframe\">\n",
              "  <thead>\n",
              "    <tr style=\"text-align: right;\">\n",
              "      <th></th>\n",
              "      <th>CBSA</th>\n",
              "      <th>Income Mean Percentage</th>\n",
              "      <th>Age Mean Percentage</th>\n",
              "      <th>Hispanic Mean Percentage</th>\n",
              "      <th>Mean of All 3</th>\n",
              "    </tr>\n",
              "  </thead>\n",
              "  <tbody>\n",
              "    <tr>\n",
              "      <th>616</th>\n",
              "      <td>35620.0</td>\n",
              "      <td>100.0</td>\n",
              "      <td>100.0</td>\n",
              "      <td>81.429847</td>\n",
              "      <td>93.809949</td>\n",
              "    </tr>\n",
              "  </tbody>\n",
              "</table>\n",
              "</div>"
            ],
            "text/plain": [
              "        CBSA  Income Mean Percentage  ...  Hispanic Mean Percentage  Mean of All 3\n",
              "616  35620.0                   100.0  ...                 81.429847      93.809949\n",
              "\n",
              "[1 rows x 5 columns]"
            ]
          },
          "metadata": {
            "tags": []
          },
          "execution_count": 18
        }
      ]
    },
    {
      "cell_type": "markdown",
      "metadata": {
        "id": "HC9YsPQTPMtH",
        "colab_type": "text"
      },
      "source": [
        "4. The New York-Newark-Jersey City, NY-NJ-PA Metro Area has the highest mean percentage across all three categories at 93.81%."
      ]
    }
  ]
}